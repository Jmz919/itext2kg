{
 "cells": [
  {
   "cell_type": "code",
   "execution_count": null,
   "id": "5011fc2d-974a-446f-9cde-0a8de9d39c88",
   "metadata": {},
   "outputs": [],
   "source": [
    "%load_ext autoreload\n",
    "%autoreload 2\n",
    "\n",
    "import sys\n",
    "import numpy as np\n",
    "from tqdm import tqdm\n",
    "\n",
    "import spacy\n",
    "from langchain_ollama import ChatOllama, OllamaEmbeddings\n",
    "from langchain.document_loaders import PyPDFLoader, TextLoader\n",
    "\n",
    "from sklearn.metrics.pairwise import cosine_similarity\n",
    "\n",
    "sys.path.append(\"..\")\n",
    "from itext2kg.documents_distiller import DocumentsDisiller, CV, Article\n",
    "from itext2kg.irelations_extraction import iRelationsExtractor"
   ]
  },
  {
   "cell_type": "markdown",
   "id": "65f304c1-8685-4378-ba7b-1a9497bafcdc",
   "metadata": {},
   "source": [
    "# Setup Models"
   ]
  },
  {
   "cell_type": "markdown",
   "id": "324fc707-4ed7-464f-895d-5c64cbf496bc",
   "metadata": {},
   "source": [
    "Using Spacy transformer model for NER and Ollama LLM for relationship extraction"
   ]
  },
  {
   "cell_type": "code",
   "execution_count": null,
   "id": "d2f027bc-314f-4f7a-b37b-fedc4cc1d9c0",
   "metadata": {},
   "outputs": [],
   "source": [
    "spacy.prefer_gpu()"
   ]
  },
  {
   "cell_type": "code",
   "execution_count": null,
   "id": "6142a389-6575-404f-bc02-f4c7be0160c0",
   "metadata": {},
   "outputs": [],
   "source": [
    "nlp = spacy.load(\"en_core_web_trf\")"
   ]
  },
  {
   "cell_type": "code",
   "execution_count": null,
   "id": "087853f9-b846-4ef1-b9bb-0451f2fd99da",
   "metadata": {},
   "outputs": [],
   "source": [
    "llm = ChatOllama(\n",
    "    model=\"gemma2:9b-instruct-q8_0\",\n",
    "    temperature=0,\n",
    "    max_retries=5,\n",
    "    max_tokens=None,\n",
    "    keep_alive=-1\n",
    ")\n",
    "\n",
    "embeddings = OllamaEmbeddings(\n",
    "    model=\"nomic-embed-text\"\n",
    ")"
   ]
  },
  {
   "cell_type": "markdown",
   "id": "c56ff5db-a0c5-4a20-ad2c-9455fd284f3e",
   "metadata": {},
   "source": [
    "## Extract Entities using Spacy"
   ]
  },
  {
   "cell_type": "code",
   "execution_count": null,
   "id": "f3d0fee3-63d9-465b-aaa7-b08eb3bfed87",
   "metadata": {
    "scrolled": true
   },
   "outputs": [],
   "source": [
    "from langchain.document_loaders import PyPDFLoader, TextLoader\n",
    "\n",
    "# loader = TextLoader(\"../datasets/cvs/Emily_Davis.txt\")\n",
    "# loader = TextLoader(\"../datasets/scientific_articles/bertology.txt\")\n",
    "# pages = loader.load()\n",
    "# pages = [page.page_content.replace(\"{\", \"\").replace(\"}\", \"\") for page in pages]\n",
    "\n",
    "loader = PyPDFLoader(f\"../datasets/scientific_articles/bertology.pdf\")\n",
    "pages = loader.load()\n",
    "pages = [page.page_content.replace(\"{\", \"\").replace(\"}\", \"\") for page in pages]"
   ]
  },
  {
   "cell_type": "code",
   "execution_count": null,
   "id": "24c0d38c-cb95-4879-84c8-266dda63c3ef",
   "metadata": {
    "scrolled": true
   },
   "outputs": [],
   "source": [
    "global_ent = []\n",
    "entities = []\n",
    "page_ents = []\n",
    "\n",
    "for page in pages:\n",
    "    doc = nlp(page)\n",
    "    # page_entities = []\n",
    "    entity_types = [\"PERSON\", \"GPE\", \"ORG\"]\n",
    "    ents = []\n",
    "    for ent in doc.ents:\n",
    "        if ent.label_ in entity_types:\n",
    "            text = ent.text.replace(\"\\n\", \"\")\n",
    "            ents.append(text)\n",
    "            if text not in entities:\n",
    "                embed = np.array(embeddings.embed_query(text))\n",
    "                ent_json = {\n",
    "                'label': ent.label_,\n",
    "                'name': text,\n",
    "                'properties': {\"embeddings\": embed}\n",
    "                }\n",
    "                \n",
    "                global_ent.append(ent_json)\n",
    "                entities.append(ent.text)\n",
    "\n",
    "    page_ents.append(ents)\n",
    "\n",
    "len(global_ent)"
   ]
  },
  {
   "cell_type": "code",
   "execution_count": null,
   "id": "f74d7022-0ebd-4d22-ba34-772eeb531d46",
   "metadata": {},
   "outputs": [],
   "source": [
    "entity_mapping = {}\n",
    "sim_threshold = 0.8\n",
    "for i in range(len(global_ent)):\n",
    "    best_sim = -1\n",
    "    sim_ent = \"\"\n",
    "    for j in range(i+1, len(global_ent)):\n",
    "        embed1 = global_ent[i][\"properties\"][\"embeddings\"]\n",
    "        embed2 = global_ent[j][\"properties\"][\"embeddings\"]\n",
    "\n",
    "        cosine_sim = cosine_similarity(embed1.reshape(1, -1), embed2.reshape(1, -1))[0][0]\n",
    "\n",
    "        if cosine_sim >= sim_threshold:\n",
    "            if len(global_ent[i][\"name\"]) > len(global_ent[j][\"name\"]):\n",
    "                entity_mapping[global_ent[j][\"name\"]] = global_ent[i][\"name\"]\n",
    "            else:\n",
    "                entity_mapping[global_ent[i][\"name\"]] = global_ent[j][\"name\"]"
   ]
  },
  {
   "cell_type": "code",
   "execution_count": null,
   "id": "01295902-0ef1-4e65-ad9b-24890861d14a",
   "metadata": {
    "scrolled": true
   },
   "outputs": [],
   "source": [
    "entity_mapping"
   ]
  },
  {
   "cell_type": "markdown",
   "id": "f5c26b6b-2382-4338-9abf-c0cb30bbd8e4",
   "metadata": {},
   "source": [
    "## Use iText2KG for creating semantic blocks and extract relationships"
   ]
  },
  {
   "cell_type": "code",
   "execution_count": null,
   "id": "89a0fb64-d7b4-42d4-af7b-6dd724f04946",
   "metadata": {
    "scrolled": true
   },
   "outputs": [],
   "source": [
    "relationships = []\n",
    "irelations_extractor = iRelationsExtractor(llm_model=llm, \n",
    "                                               embeddings_model=embeddings,\n",
    "                                               sleep_time=1)\n",
    "\n",
    "for page, ents in tqdm(zip(pages, page_ents), total=len(pages)):\n",
    "    rels = irelations_extractor.extract_relations(context=page, entities=ents)\n",
    "    relationships.append(rels)"
   ]
  },
  {
   "cell_type": "markdown",
   "id": "930e1963-d316-4cbc-b3d5-8caf068afdc6",
   "metadata": {},
   "source": [
    "## Format Relationships to Visualize in Neo4j"
   ]
  },
  {
   "cell_type": "code",
   "execution_count": null,
   "id": "8a9f267f-03df-472d-b17b-9ecc8b1598ad",
   "metadata": {
    "scrolled": true
   },
   "outputs": [],
   "source": [
    "global_rel = []\n",
    "pairing = []\n",
    "for rels in relationships:\n",
    "    for rel in rels:\n",
    "        start_node = entity_mapping[rel[\"startNode\"]] if rel[\"startNode\"] in entity_mapping else rel[\"startNode\"]\n",
    "        end_node = entity_mapping[rel[\"endNode\"]] if rel[\"endNode\"] in entity_mapping else rel[\"endNode\"]\n",
    "        \n",
    "        if [start_node, end_node] not in pairing and start_node in entities and end_node in entities:\n",
    "            rel[\"name\"] = rel[\"name\"].replace(\" \", \"_\")\n",
    "            global_rel.append(rel)\n",
    "            pairing.append([start_node, end_node])\n",
    "\n",
    "len(global_rel)"
   ]
  },
  {
   "cell_type": "code",
   "execution_count": null,
   "id": "9009da67-8841-42b1-b742-15aff1e508c2",
   "metadata": {
    "scrolled": true
   },
   "outputs": [],
   "source": [
    "global_ent[:10]"
   ]
  },
  {
   "cell_type": "code",
   "execution_count": null,
   "id": "1d12f96c-1fc9-4a9a-b7f8-836f4b10329d",
   "metadata": {
    "scrolled": true
   },
   "outputs": [],
   "source": [
    "global_rel[:10]"
   ]
  },
  {
   "cell_type": "markdown",
   "id": "61d3cbd8-cb01-4274-a860-59d27ff0f924",
   "metadata": {},
   "source": [
    "Run: docker run -p7474:7474 -p7687:7687 -e NEO4J_AUTH=neo4j/secretgraph neo4j:latest in terminal"
   ]
  },
  {
   "cell_type": "code",
   "execution_count": null,
   "id": "62dba912-b17e-405d-a8a0-0c2879e435aa",
   "metadata": {
    "scrolled": true
   },
   "outputs": [],
   "source": [
    "from itext2kg.graph_integration import GraphIntegrator\n",
    "\n",
    "URI = \"bolt://localhost:7687\"\n",
    "USERNAME = \"neo4j\"\n",
    "PASSWORD = \"secretgraph\"\n",
    "\n",
    "new_graph = {}\n",
    "new_graph[\"nodes\"] = global_ent\n",
    "new_graph[\"relationships\"] = global_rel\n",
    "GraphIntegrator(uri=URI, username=USERNAME, password=PASSWORD).visualize_graph(json_graph=new_graph)"
   ]
  }
 ],
 "metadata": {
  "kernelspec": {
   "display_name": "Python 3 (ipykernel)",
   "language": "python",
   "name": "python3"
  },
  "language_info": {
   "codemirror_mode": {
    "name": "ipython",
    "version": 3
   },
   "file_extension": ".py",
   "mimetype": "text/x-python",
   "name": "python",
   "nbconvert_exporter": "python",
   "pygments_lexer": "ipython3",
   "version": "3.11.9"
  }
 },
 "nbformat": 4,
 "nbformat_minor": 5
}
