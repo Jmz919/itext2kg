{
 "cells": [
  {
   "cell_type": "code",
   "execution_count": 1,
   "id": "5011fc2d-974a-446f-9cde-0a8de9d39c88",
   "metadata": {},
   "outputs": [],
   "source": [
    "%load_ext autoreload\n",
    "%autoreload 2\n",
    "\n",
    "import sys\n",
    "import re\n",
    "import numpy as np\n",
    "from tqdm import tqdm\n",
    "\n",
    "import torch\n",
    "import spacy\n",
    "from transformers import pipeline\n",
    "from langchain_ollama import ChatOllama, OllamaEmbeddings\n",
    "from langchain_ollama import ChatOllama, OllamaEmbeddings\n",
    "from langchain.document_loaders import PyPDFLoader, TextLoader\n",
    "\n",
    "from sklearn.metrics.pairwise import cosine_similarity\n",
    "\n",
    "# sys.path.append(\"..\")\n",
    "# from itext2kg.documents_distiller import DocumentsDisiller, CV, Article\n",
    "# from itext2kg.models import Entity, KnowledgeGraph\n",
    "from itext2kg.irelations_extraction import iRelationsExtractor\n",
    "from itext2kg.graph_integration import GraphIntegrator"
   ]
  },
  {
   "cell_type": "markdown",
   "id": "65f304c1-8685-4378-ba7b-1a9497bafcdc",
   "metadata": {},
   "source": [
    "# Setup Models"
   ]
  },
  {
   "cell_type": "markdown",
   "id": "324fc707-4ed7-464f-895d-5c64cbf496bc",
   "metadata": {},
   "source": [
    "Using Spacy transformer model for NER and Ollama LLM for relationship extraction"
   ]
  },
  {
   "cell_type": "code",
   "execution_count": 2,
   "id": "d2f027bc-314f-4f7a-b37b-fedc4cc1d9c0",
   "metadata": {},
   "outputs": [
    {
     "data": {
      "text/plain": [
       "True"
      ]
     },
     "execution_count": 2,
     "metadata": {},
     "output_type": "execute_result"
    }
   ],
   "source": [
    "spacy.prefer_gpu()"
   ]
  },
  {
   "cell_type": "code",
   "execution_count": 3,
   "id": "6142a389-6575-404f-bc02-f4c7be0160c0",
   "metadata": {},
   "outputs": [
    {
     "name": "stderr",
     "output_type": "stream",
     "text": [
      "/opt/anaconda3/envs/text/lib/python3.11/site-packages/thinc/shims/pytorch.py:253: FutureWarning: You are using `torch.load` with `weights_only=False` (the current default value), which uses the default pickle module implicitly. It is possible to construct malicious pickle data which will execute arbitrary code during unpickling (See https://github.com/pytorch/pytorch/blob/main/SECURITY.md#untrusted-models for more details). In a future release, the default value for `weights_only` will be flipped to `True`. This limits the functions that could be executed during unpickling. Arbitrary objects will no longer be allowed to be loaded via this mode unless they are explicitly allowlisted by the user via `torch.serialization.add_safe_globals`. We recommend you start setting `weights_only=True` for any use case where you don't have full control of the loaded file. Please open an issue on GitHub for any issues related to this experimental feature.\n",
      "  model.load_state_dict(torch.load(filelike, map_location=device))\n"
     ]
    }
   ],
   "source": [
    "nlp = spacy.load(\"en_core_web_trf\")"
   ]
  },
  {
   "cell_type": "code",
   "execution_count": 4,
   "id": "087853f9-b846-4ef1-b9bb-0451f2fd99da",
   "metadata": {
    "scrolled": true
   },
   "outputs": [],
   "source": [
    "llm = ChatOllama(\n",
    "    # model=\"gemma2:9b-instruct-q8_0\", # Took \n",
    "    model=\"gemma2:9b-instruct-q5_K_M\", # Took 12 minutes to extract relationships\n",
    "    # model=\"gemma2:9b-instruct-q5_K_S\", # Took 13 minutes to extract relationships\n",
    "    # model=\"gemma2:9b-instruct-q4_K_S\", # Took <10 minutes to extract relationships\n",
    "    temperature=0,\n",
    "    max_retries=5,\n",
    "    max_tokens=None,\n",
    "    keep_alive=-1\n",
    ")\n",
    "\n",
    "embeddings = OllamaEmbeddings(\n",
    "    model=\"bge-large\"\n",
    ")"
   ]
  },
  {
   "cell_type": "markdown",
   "id": "c56ff5db-a0c5-4a20-ad2c-9455fd284f3e",
   "metadata": {},
   "source": [
    "## Extract Entities using Spacy"
   ]
  },
  {
   "cell_type": "code",
   "execution_count": 6,
   "id": "f3d0fee3-63d9-465b-aaa7-b08eb3bfed87",
   "metadata": {
    "scrolled": true
   },
   "outputs": [],
   "source": [
    "loader = PyPDFLoader(f\"../datasets/scientific_articles/building_age.pdf\")\n",
    "pages = loader.load()\n",
    "pages = [page.page_content.replace(\"{\", \"\").replace(\"}\", \"\") for page in pages]"
   ]
  },
  {
   "cell_type": "code",
   "execution_count": 7,
   "id": "24c0d38c-cb95-4879-84c8-266dda63c3ef",
   "metadata": {
    "scrolled": true
   },
   "outputs": [
    {
     "name": "stderr",
     "output_type": "stream",
     "text": [
      "/opt/anaconda3/envs/text/lib/python3.11/site-packages/thinc/shims/pytorch.py:114: FutureWarning: `torch.cuda.amp.autocast(args...)` is deprecated. Please use `torch.amp.autocast('cuda', args...)` instead.\n",
      "  with torch.cuda.amp.autocast(self._mixed_precision):\n"
     ]
    },
    {
     "data": {
      "text/plain": [
       "203"
      ]
     },
     "execution_count": 7,
     "metadata": {},
     "output_type": "execute_result"
    }
   ],
   "source": [
    "global_ent = []\n",
    "entities = []\n",
    "page_ents = []\n",
    "entity_types = [\"PERSON\", \"GPE\", \"ORG\"]\n",
    "\n",
    "for page in pages:\n",
    "    ents = []\n",
    "    doc = nlp(page)\n",
    "    for ent in doc.ents:\n",
    "        if ent.label_ in entity_types:\n",
    "            text = ent.text.replace(\"\\n\", \"\")\n",
    "            text = re.split(r'\\d', text)[0].rstrip()\n",
    "            \n",
    "            embed = np.array(embeddings.embed_query(text.lower()))\n",
    "            ents.append(text)\n",
    "            \n",
    "            # entity = Entity(name=text, label=ent.label_)\n",
    "            # entity.properties.embeddings = embed\n",
    "            # ents.append(entity)\n",
    "            \n",
    "            if text.lower() not in entities:\n",
    "                ent_json = {\n",
    "                    \"name\": text,\n",
    "                    \"label\": ent.label_,\n",
    "                    \"properties\": {\"embeddings\": embed}\n",
    "                }\n",
    "                global_ent.append(ent_json)\n",
    "                # global_ent.append(entity)\n",
    "                entities.append(text.lower())\n",
    "\n",
    "    page_ents.append(ents)\n",
    "\n",
    "len(global_ent)"
   ]
  },
  {
   "cell_type": "markdown",
   "id": "f5c26b6b-2382-4338-9abf-c0cb30bbd8e4",
   "metadata": {},
   "source": [
    "## Use iText2KG for extracting relationships"
   ]
  },
  {
   "cell_type": "code",
   "execution_count": 8,
   "id": "89a0fb64-d7b4-42d4-af7b-6dd724f04946",
   "metadata": {
    "scrolled": true
   },
   "outputs": [
    {
     "name": "stderr",
     "output_type": "stream",
     "text": [
      "  0%|                                                                                                                 | 0/8 [00:00<?, ?it/s]"
     ]
    },
    {
     "name": "stdout",
     "output_type": "stream",
     "text": [
      "{'relationships': [{'startNode': 'Zeng', 'endNode': 'University College London', 'name': 'affiliated with'}, {'startNode': 'J. M. Goo', 'endNode': 'University College London', 'name': 'affiliated with'}, {'startNode': 'X. Wang', 'endNode': 'University College London', 'name': 'affiliated with'}, {'startNode': 'B. Chi', 'endNode': 'University College London', 'name': 'affiliated with'}, {'startNode': 'M. Wang', 'endNode': 'University College London', 'name': 'affiliated with'}, {'startNode': 'J. Boehm', 'endNode': 'University College London', 'name': 'affiliated with'}, {'startNode': 'Aksoezen', 'endNode': 'energy consumption analysis', 'name': 'related to'}, {'startNode': 'Law', 'endNode': 'housing prices', 'name': 'related to'}, {'startNode': 'Sun', 'endNode': 'building age estimation', 'name': 'studied in the context of'}, {'startNode': 'Ogawa', 'endNode': 'disaster resilience analysis', 'name': 'contributed to'}, {'startNode': 'Li', 'endNode': 'Google', 'name': 'worked at'}, {'startNode': 'Zeppelzauer', 'endNode': 'building age estimation', 'name': 'studied in the context of'}, {'startNode': 'Despotovic', 'endNode': 'building age estimation', 'name': 'studied in the context of'}, {'startNode': 'Sun', 'endNode': 'building age estimation', 'name': 'studied in the context of'}, {'startNode': 'Ogawa', 'endNode': 'building age estimation', 'name': 'studied in the context of'}, {'startNode': 'Hinton', 'endNode': 'CLIP', 'name': 'developed'}, {'startNode': 'Radford', 'endNode': 'CLIP', 'name': 'developed'}]}\n"
     ]
    },
    {
     "name": "stderr",
     "output_type": "stream",
     "text": [
      " 12%|█████████████▏                                                                                           | 1/8 [00:46<05:25, 46.51s/it]"
     ]
    },
    {
     "name": "stdout",
     "output_type": "stream",
     "text": [
      "{'relationships': [{'startNode': 'Despotovic', 'endNode': 'FI-London', 'name': 'worked on'}, {'startNode': 'Riemenschneider', 'endNode': 'architectural styles', 'name': 'classified'}, {'startNode': 'Shalunts', 'endNode': 'construction styles', 'name': 'categorized'}, {'startNode': 'Law', 'endNode': 'house prices in London', 'name': 'estimated'}, {'startNode': 'Zeppelzauer', 'endNode': 'building age', 'name': 'predicted'}, {'startNode': 'Despotovic', 'endNode': 'heating energy demand', 'name': 'analyzed'}, {'startNode': 'Ogawa', 'endNode': 'building age', 'name': 'predicted'}, {'startNode': 'Achiam', 'endNode': 'GPT', 'name': 'developed'}, {'startNode': 'Qin', 'endNode': 'natural language processing tasks', 'name': 'achieved performance in'}, {'startNode': 'Roberts', 'endNode': 'geographic knowledge and reasoning', 'name': 'indicated capabilities in'}, {'startNode': 'Li', 'endNode': 'geographic knowledge and reasoning', 'name': 'indicated capabilities in'}, {'startNode': 'Wang', 'endNode': 'geographic knowledge and reasoning', 'name': 'indicated capabilities in'}, {'startNode': 'Radford', 'endNode': 'CLIP', 'name': 'developed'}, {'startNode': 'Li', 'endNode': 'BLIP', 'name': 'developed'}, {'startNode': 'Li', 'endNode': 'GLIP', 'name': 'developed'}, {'startNode': 'Liu', 'endNode': 'Liu', 'name': 'developed'}, {'startNode': 'Radford', 'endNode': 'zero-shot learning', 'name': 'demonstrated'}, {'startNode': 'Kedron', 'endNode': 'Holler', 'name': 'collaborated on research with'}, {'startNode': 'Zhang', 'endNode': 'AI safety', 'name': 'researched'}]}\n"
     ]
    },
    {
     "name": "stderr",
     "output_type": "stream",
     "text": [
      " 25%|██████████████████████████▎                                                                              | 2/8 [01:38<04:57, 49.67s/it]"
     ]
    },
    {
     "name": "stdout",
     "output_type": "stream",
     "text": [
      "{'relationships': [{'startNode': 'London', 'endNode': 'FI-London', 'name': 'is_location_of'}, {'startNode': 'Despotovic', 'endNode': 'dataset', 'name': 'created'}, {'startNode': 'Sun', 'endNode': 'dataset', 'name': 'combined'}, {'startNode': 'Google Street View', 'endNode': 'dataset', 'name': 'data_source'}, {'startNode': 'Amsterdam', 'endNode': 'dataset', 'name': 'origin'}, {'startNode': 'London', 'endNode': 'FI-London', 'name': 'focus_area'}, {'startNode': 'Camden', 'endNode': 'FI-London', 'name': 'location_within'}, {'startNode': 'FI-London', 'endNode': 'building_age_epochs', 'name': 'contains_information_about'}, {'startNode': 'Hudson', 'endNode': 'FI-London', 'name': 'derived_from'}, {'startNode': 'London', 'endNode': 'case_study', 'name': 'selected_as'}, {'startNode': 'Jones', 'endNode': 'building_age_epochs', 'name': 'analyzed'}]}\n"
     ]
    },
    {
     "name": "stderr",
     "output_type": "stream",
     "text": [
      " 50%|████████████████████████████████████████████████████▌                                                    | 4/8 [02:25<02:04, 31.20s/it]"
     ]
    },
    {
     "name": "stdout",
     "output_type": "stream",
     "text": [
      "{'relationships': [{'startNode': 'FI-London', 'endNode': 'London', 'name': 'is located in'}, {'startNode': 'FI-London', 'endNode': 'OpenAI', 'name': 'uses'}]}\n"
     ]
    },
    {
     "name": "stderr",
     "output_type": "stream",
     "text": [
      " 62%|█████████████████████████████████████████████████████████████████▋                                       | 5/8 [02:37<01:13, 24.36s/it]"
     ]
    },
    {
     "name": "stdout",
     "output_type": "stream",
     "text": [
      "{'relationships': [{'startNode': 'London', 'endNode': 'British Library', 'name': 'located in'}, {'startNode': 'Rawte', 'endNode': 'British Library', 'name': 'mentioned in context about'}]}\n"
     ]
    },
    {
     "name": "stderr",
     "output_type": "stream",
     "text": [
      " 75%|██████████████████████████████████████████████████████████████████████████████▊                          | 6/8 [02:50<00:40, 20.28s/it]"
     ]
    },
    {
     "name": "stdout",
     "output_type": "stream",
     "text": [
      "{'relationships': [{'startNode': 'GPT-4 Vision', 'endNode': 'building facade images', 'name': 'classifies'}, {'startNode': 'age epoch', 'endNode': 'building facade images', 'name': 'is associated with'}]}\n"
     ]
    },
    {
     "name": "stderr",
     "output_type": "stream",
     "text": [
      " 88%|███████████████████████████████████████████████████████████████████████████████████████████▉             | 7/8 [02:59<00:16, 16.60s/it]"
     ]
    },
    {
     "name": "stdout",
     "output_type": "stream",
     "text": [
      "{'relationships': [{'startNode': '07 niigata-ken chuetsu-oki earthquake', 'endNode': 'Proc. 32nd Asian Conference on Remote Sensing', 'name': 'was presented at'}]}\n",
      "{'relationships': [{'startNode': 'Ogawa, Y .', 'endNode': 'IEEE Journal ofSelected Topics in Applied Earth Observations and Remote', 'name': 'authored'}, {'startNode': 'Qin, C.', 'endNode': 'arXiv', 'name': 'published_in'}, {'startNode': 'Radford, A.', 'endNode': 'International conference on machine learning', 'name': 'presented_at'}, {'startNode': 'Rawte, V .', 'endNode': 'arXiv', 'name': 'published_in'}, {'startNode': 'Riemenschneider, H.', 'endNode': '2012 IEEE Conference on Computer Vision and Pattern Recognition', 'name': 'presented_at'}, {'startNode': 'Roberts, J.', 'endNode': 'arXiv', 'name': 'published_in'}, {'startNode': 'Shalunts', 'endNode': 'International Symposium on Visual Computing', 'name': 'presented_at'}, {'startNode': 'Stanley, S.', 'endNode': 'Energy Efficiency', 'name': 'published_in'}, {'startNode': 'Sun, M.', 'endNode': 'IEEE', 'name': 'published_in'}, {'startNode': 'Sun, M.', 'endNode': 'Cities', 'name': 'published_in'}, {'startNode': 'Tam, Tso, T. Y', 'endNode': 'Journal of urbanplanning and development', 'name': 'published_in'}, {'startNode': 'Wang, X.', 'endNode': 'arXiv', 'name': 'published_in'}, {'startNode': 'Zeppelzauer, M.', 'endNode': 'As-sociation for Computing Machinery', 'name': 'presented_at'}, {'startNode': 'Zhang, Y .', 'endNode': 'International Journal of Applied Earth Obser-vation and Geoinformation', 'name': 'published_in'}]}\n"
     ]
    },
    {
     "name": "stderr",
     "output_type": "stream",
     "text": [
      "100%|█████████████████████████████████████████████████████████████████████████████████████████████████████████| 8/8 [03:45<00:00, 28.24s/it]\n"
     ]
    }
   ],
   "source": [
    "relationships = []\n",
    "irelations_extractor = iRelationsExtractor(llm_model=llm, \n",
    "                                           embeddings_model=embeddings,\n",
    "                                           sleep_time=1)\n",
    "\n",
    "for page, ents in tqdm(zip(pages, page_ents), total=len(pages)): # Took 20 minutes with latest itext2kg version\n",
    "    rels = irelations_extractor.extract_relations(context=page, entities=ents)\n",
    "    relationships.append(rels)"
   ]
  },
  {
   "cell_type": "markdown",
   "id": "930e1963-d316-4cbc-b3d5-8caf068afdc6",
   "metadata": {},
   "source": [
    "## Format Relationships to Visualize in Neo4j"
   ]
  },
  {
   "cell_type": "markdown",
   "id": "8991a896-2aad-44dd-b1a0-a5fc4f3bae24",
   "metadata": {},
   "source": [
    "### Get all new entities found related to Spacy Entities"
   ]
  },
  {
   "cell_type": "code",
   "execution_count": 12,
   "id": "dac92f89-c5be-4d65-8e88-dc8f13a7226e",
   "metadata": {},
   "outputs": [],
   "source": [
    "for rels in relationships:\n",
    "    for rel in rels:\n",
    "        # start_node = rel.startEntity.name\n",
    "        # end_node = rel.endEntity.name\n",
    "\n",
    "        start_node = rel[\"startNode\"]\n",
    "        end_node = rel[\"endNode\"]\n",
    "\n",
    "        start_node = start_node.replace(\"\\n\", \"\")\n",
    "        start_node = re.split(r'\\d', start_node)[0].rstrip()\n",
    "\n",
    "        end_node = end_node.replace(\"\\n\", \"\")\n",
    "        end_node = re.split(r'\\d', end_node)[0].rstrip()\n",
    "        \n",
    "        if start_node.lower() in entities or end_node.lower() in entities:\n",
    "            if start_node.lower() not in entities and start_node != \"\":\n",
    "                embed = np.array(embeddings.embed_query(start_node))\n",
    "                # entity = Entity(name=start_node, label=\"Unknown\")\n",
    "                # entity.properties.embeddings = embed\n",
    "                \n",
    "                ent_json = {\n",
    "                    'label': \"Unknown\",\n",
    "                    'name': start_node,\n",
    "                    'properties': {\"embeddings\": embed}\n",
    "                }\n",
    "                \n",
    "                entities.append(start_node.lower())\n",
    "                global_ent.append(ent_json)\n",
    "                # global_ent.append(entity)\n",
    "            elif end_node.lower() not in entities and end_node != \"\":\n",
    "                embed = np.array(embeddings.embed_query(end_node))\n",
    "                # entity = Entity(name=end_node, label=\"Unknown\")\n",
    "                # entity.properties.embeddings = embed\n",
    "                \n",
    "                ent_json = {\n",
    "                    'label': \"Unknown\",\n",
    "                    'name': end_node,\n",
    "                    'properties': {\"embeddings\": embed}\n",
    "                }\n",
    "                \n",
    "                entities.append(end_node.lower())\n",
    "                global_ent.append(ent_json)\n",
    "                # global_ent.append(entity)"
   ]
  },
  {
   "cell_type": "markdown",
   "id": "2482d341-fb33-41b0-a944-5fbec2c6670d",
   "metadata": {},
   "source": [
    "### Create Entity Resolution Mapping based on embeddings cosine similarity"
   ]
  },
  {
   "cell_type": "code",
   "execution_count": 15,
   "id": "31f7c411-d5f7-4348-8694-d6f7c02c008f",
   "metadata": {
    "scrolled": true
   },
   "outputs": [
    {
     "data": {
      "text/plain": [
       "{'Wang': 'Wang, X.',\n",
       " 'X. Wang': 'Wang, X.',\n",
       " 'M.': 'Sun, M.',\n",
       " 'UK': 'USA',\n",
       " 'London': 'dublin',\n",
       " 'Aksoezen': 'Aksoezen, M.',\n",
       " 'Ogawa': 'Ogawa, Y .',\n",
       " 'Li': 'Yang',\n",
       " 'L': 'L. H.',\n",
       " 'Zeppelzauer': 'Zeppelzauer, M.',\n",
       " 'et': 'et al.',\n",
       " 'Radford': 'Radford, A.',\n",
       " 'Tam': 'Tam, Tso, T. Y',\n",
       " 'Stanley': 'Stanley, S.',\n",
       " 'FI': 'FI-London',\n",
       " 'Riemenschneider': 'Riemenschneider, H.',\n",
       " 'Qin': 'Qin, C.',\n",
       " 'Roberts': 'Roberts, J.',\n",
       " 'Kedron': 'Kedron, P.',\n",
       " 'Zhang': 'Zhang, Y .',\n",
       " 'dublin': 'Amsterdam',\n",
       " 'Hudson': 'Hudson, P.',\n",
       " 'Jones': '.Jones',\n",
       " 'British Library': 'the British Library',\n",
       " 'Rawte': 'Rawte, V .',\n",
       " 'L.': 'L. H.',\n",
       " 'F.': 'F. L.',\n",
       " 'D.': 'Smith, D.',\n",
       " 'Energy': 'Energy Efficiency',\n",
       " 'D¨oller': 'D ¨oller',\n",
       " 'W.': 'J. W.',\n",
       " 'Russell, T.': 'Russell, C.',\n",
       " 'T.': 'T. Y',\n",
       " 'Newcastle': 'Newcastle Uni-',\n",
       " 'England': 'Scotland',\n",
       " 'H.': 'L. H.',\n",
       " 'Yang': 'Chen',\n",
       " 'J.': 'J. W.',\n",
       " 'N.': 'J.-N.',\n",
       " 'Y .': 'Zhang, Y .',\n",
       " 'Taipei': 'dublin',\n",
       " 'International Journal of Applied Earth Obser-vation and Geoinformation': 'IEEE Journal ofSelected Topics in Applied Earth Observations and Remote',\n",
       " 'Lyons, S.': 'Lyons, R. C.',\n",
       " 'Energy Efficiency': 'energy consumption analysis',\n",
       " 'X.': 'Wang, X.',\n",
       " 'NY': 'USA',\n",
       " 'housing prices': 'house prices in London',\n",
       " 'building age': 'building_age_epochs',\n",
       " 'building_age_epochs': 'building age estimation',\n",
       " 'construction styles': 'architectural styles',\n",
       " 'BLIP': 'GLIP'}"
      ]
     },
     "execution_count": 15,
     "metadata": {},
     "output_type": "execute_result"
    }
   ],
   "source": [
    "entity_mapping = {}\n",
    "sim_threshold = 0.77\n",
    "for i in range(len(global_ent)):\n",
    "    best_sim = -1\n",
    "    sim_ent = \"\"\n",
    "    for j in range(i+1, len(global_ent)):\n",
    "        # embed1 = global_ent[i].properties.embeddings\n",
    "        # embed2 = global_ent[j].properties.embeddings\n",
    "\n",
    "        embed1 = global_ent[i][\"properties\"][\"embeddings\"]\n",
    "        embed2 = global_ent[j][\"properties\"][\"embeddings\"]\n",
    "\n",
    "        cosine_sim = cosine_similarity(embed1.reshape(1, -1), embed2.reshape(1, -1))[0][0]\n",
    "\n",
    "        if cosine_sim >= sim_threshold:\n",
    "            if len(global_ent[i][\"name\"]) > len(global_ent[j][\"name\"]):\n",
    "                entity_mapping[global_ent[j][\"name\"]] = global_ent[i][\"name\"]\n",
    "            else:\n",
    "                entity_mapping[global_ent[i][\"name\"]] = global_ent[j][\"name\"]\n",
    "            \n",
    "            # if len(global_ent[i].name) > len(global_ent[j].name):\n",
    "            #     # entity_mapping[global_ent[j].name] = global_ent[i]\n",
    "            #     entity_mapping[global_ent[j].name] = global_ent[i].name\n",
    "            # else:\n",
    "            #     # entity_mapping[global_ent[i].name] = global_ent[j]\n",
    "            #     entity_mapping[global_ent[i].name] = global_ent[j].name\n",
    "\n",
    "entity_mapping"
   ]
  },
  {
   "cell_type": "markdown",
   "id": "e52af261-76d1-4feb-ac3f-e73ef5f6b1da",
   "metadata": {},
   "source": [
    "### Get and Correct Relationships Based on Entity Mapping"
   ]
  },
  {
   "cell_type": "code",
   "execution_count": 19,
   "id": "8a9f267f-03df-472d-b17b-9ecc8b1598ad",
   "metadata": {
    "scrolled": true
   },
   "outputs": [
    {
     "name": "stdout",
     "output_type": "stream",
     "text": [
      "Number of entities: 231 , relationships: 63\n"
     ]
    }
   ],
   "source": [
    "global_rel = []\n",
    "for rels in relationships:\n",
    "    for rel in rels:\n",
    "        # start_node, end_node = rel.startEntity, rel.endEntity\n",
    "        start_node, end_node = rel[\"startNode\"], rel[\"endNode\"]\n",
    "        while start_node in entity_mapping:\n",
    "            # start_node = entity_mapping[start_node.name]\n",
    "            start_node = entity_mapping[start_node]\n",
    "        \n",
    "        while end_node in entity_mapping:\n",
    "            end_node = entity_mapping[end_node]\n",
    "\n",
    "        if start_node.lower() in entities and end_node.lower() in entities and start_node.lower() != end_node.lower():\n",
    "            rel[\"name\"] = rel[\"name\"].replace(\" \", \"_\").replace(\"’\", \"\")\n",
    "            rel[\"startNode\"] = start_node\n",
    "            rel[\"endNode\"] = end_node\n",
    "            global_rel.append(rel)\n",
    "        \n",
    "        # if start_node.name.lower() in entities and end_node.name.lower() in entities and start_node.name.lower() != end_node.name.lower():\n",
    "        #     rel.name = rel.name.replace(\" \", \"_\").replace(\"’\", \"\")\n",
    "        #     rel.startEntity = start_node\n",
    "        #     rel.endEntity = end_node\n",
    "        #     global_rel.append(rel)\n",
    "\n",
    "print(f\"Number of entities: {len(global_ent)} , relationships: {len(global_rel)}\")"
   ]
  },
  {
   "cell_type": "code",
   "execution_count": 21,
   "id": "1d12f96c-1fc9-4a9a-b7f8-836f4b10329d",
   "metadata": {
    "scrolled": true
   },
   "outputs": [
    {
     "data": {
      "text/plain": [
       "[['Zeng', 'affiliated_with', 'University College London'],\n",
       " ['J. M. Goo', 'affiliated_with', 'University College London'],\n",
       " ['Wang, X.', 'affiliated_with', 'University College London'],\n",
       " ['B. Chi', 'affiliated_with', 'University College London'],\n",
       " ['M. Wang', 'affiliated_with', 'University College London'],\n",
       " ['J. Boehm', 'affiliated_with', 'University College London'],\n",
       " ['Aksoezen, M.', 'related_to', 'energy consumption analysis'],\n",
       " ['Law', 'related_to', 'house prices in London'],\n",
       " ['Sun', 'studied_in_the_context_of', 'building age estimation'],\n",
       " ['Ogawa, Y .', 'contributed_to', 'disaster resilience analysis'],\n",
       " ['Chen', 'worked_at', 'Google'],\n",
       " ['Zeppelzauer, M.', 'studied_in_the_context_of', 'building age estimation'],\n",
       " ['Despotovic', 'studied_in_the_context_of', 'building age estimation'],\n",
       " ['Sun', 'studied_in_the_context_of', 'building age estimation'],\n",
       " ['Ogawa, Y .', 'studied_in_the_context_of', 'building age estimation'],\n",
       " ['Hinton', 'developed', 'CLIP'],\n",
       " ['Radford, A.', 'developed', 'CLIP'],\n",
       " ['Despotovic', 'worked_on', 'FI-London'],\n",
       " ['Riemenschneider, H.', 'classified', 'architectural styles'],\n",
       " ['Shalunts', 'categorized', 'architectural styles'],\n",
       " ['Law', 'estimated', 'house prices in London'],\n",
       " ['Zeppelzauer, M.', 'predicted', 'building age estimation'],\n",
       " ['Despotovic', 'analyzed', 'heating energy demand'],\n",
       " ['Ogawa, Y .', 'predicted', 'building age estimation'],\n",
       " ['Achiam', 'developed', 'GPT'],\n",
       " ['Qin, C.', 'achieved_performance_in', 'natural language processing tasks'],\n",
       " ['Roberts, J.',\n",
       "  'indicated_capabilities_in',\n",
       "  'geographic knowledge and reasoning'],\n",
       " ['Chen', 'indicated_capabilities_in', 'geographic knowledge and reasoning'],\n",
       " ['Wang, X.',\n",
       "  'indicated_capabilities_in',\n",
       "  'geographic knowledge and reasoning'],\n",
       " ['Radford, A.', 'developed', 'CLIP'],\n",
       " ['Chen', 'developed', 'GLIP'],\n",
       " ['Chen', 'developed', 'GLIP'],\n",
       " ['Radford, A.', 'demonstrated', 'zero-shot learning'],\n",
       " ['Kedron, P.', 'collaborated_on_research_with', 'Holler'],\n",
       " ['Zhang, Y .', 'researched', 'AI safety'],\n",
       " ['Amsterdam', 'is_location_of', 'FI-London'],\n",
       " ['Despotovic', 'created', 'dataset'],\n",
       " ['Sun', 'combined', 'dataset'],\n",
       " ['Google Street View', 'data_source', 'dataset'],\n",
       " ['Amsterdam', 'origin', 'dataset'],\n",
       " ['Amsterdam', 'focus_area', 'FI-London'],\n",
       " ['Camden', 'location_within', 'FI-London'],\n",
       " ['FI-London', 'contains_information_about', 'building age estimation'],\n",
       " ['Hudson, P.', 'derived_from', 'FI-London'],\n",
       " ['Amsterdam', 'selected_as', 'case_study'],\n",
       " ['.Jones', 'analyzed', 'building age estimation'],\n",
       " ['FI-London', 'is_located_in', 'Amsterdam'],\n",
       " ['FI-London', 'uses', 'OpenAI'],\n",
       " ['Amsterdam', 'located_in', 'the British Library'],\n",
       " ['Rawte, V .', 'mentioned_in_context_about', 'the British Library'],\n",
       " ['Ogawa, Y .',\n",
       "  'authored',\n",
       "  'IEEE Journal ofSelected Topics in Applied Earth Observations and Remote'],\n",
       " ['Qin, C.', 'published_in', 'arXiv'],\n",
       " ['Radford, A.',\n",
       "  'presented_at',\n",
       "  'International conference on machine learning'],\n",
       " ['Rawte, V .', 'published_in', 'arXiv'],\n",
       " ['Roberts, J.', 'published_in', 'arXiv'],\n",
       " ['Shalunts', 'presented_at', 'International Symposium on Visual Computing'],\n",
       " ['Stanley, S.', 'published_in', 'energy consumption analysis'],\n",
       " ['Sun, M.', 'published_in', 'IEEE'],\n",
       " ['Sun, M.', 'published_in', 'Cities'],\n",
       " ['Tam, Tso, T. Y',\n",
       "  'published_in',\n",
       "  'Journal of urbanplanning and development'],\n",
       " ['Wang, X.', 'published_in', 'arXiv'],\n",
       " ['Zeppelzauer, M.', 'presented_at', 'As-sociation for Computing Machinery'],\n",
       " ['Zhang, Y .',\n",
       "  'published_in',\n",
       "  'IEEE Journal ofSelected Topics in Applied Earth Observations and Remote']]"
      ]
     },
     "execution_count": 21,
     "metadata": {},
     "output_type": "execute_result"
    }
   ],
   "source": [
    "triples = []\n",
    "for rel in global_rel:\n",
    "    # triples.append([rel.startEntity.name, rel.name, rel.endEntity.name])\n",
    "    triples.append([rel[\"startNode\"], rel[\"name\"], rel[\"endNode\"]])\n",
    "    \n",
    "\n",
    "triples"
   ]
  },
  {
   "cell_type": "markdown",
   "id": "61d3cbd8-cb01-4274-a860-59d27ff0f924",
   "metadata": {},
   "source": [
    "Run: docker run -p7474:7474 -p7687:7687 -e NEO4J_AUTH=neo4j/secretgraph neo4j:latest in terminal"
   ]
  },
  {
   "cell_type": "code",
   "execution_count": 23,
   "id": "62dba912-b17e-405d-a8a0-0c2879e435aa",
   "metadata": {
    "scrolled": true
   },
   "outputs": [],
   "source": [
    "URI = \"bolt://localhost:7687\"\n",
    "USERNAME = \"neo4j\"\n",
    "PASSWORD = \"secretgraph\"\n",
    "\n",
    "new_graph = {}\n",
    "new_graph[\"nodes\"] = global_ent\n",
    "new_graph[\"relationships\"] = global_rel\n",
    "\n",
    "# kg = KnowledgeGraph()\n",
    "# kg.entities = global_ent\n",
    "# kg.relationships = global_rel\n",
    "GraphIntegrator(uri=URI, username=USERNAME, password=PASSWORD).visualize_graph(new_graph)"
   ]
  }
 ],
 "metadata": {
  "kernelspec": {
   "display_name": "Python 3 (ipykernel)",
   "language": "python",
   "name": "python3"
  },
  "language_info": {
   "codemirror_mode": {
    "name": "ipython",
    "version": 3
   },
   "file_extension": ".py",
   "mimetype": "text/x-python",
   "name": "python",
   "nbconvert_exporter": "python",
   "pygments_lexer": "ipython3",
   "version": "3.11.9"
  }
 },
 "nbformat": 4,
 "nbformat_minor": 5
}
