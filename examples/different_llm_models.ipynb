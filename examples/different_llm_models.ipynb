{
 "cells": [
  {
   "cell_type": "code",
   "execution_count": 6,
   "metadata": {},
   "outputs": [
    {
     "name": "stdout",
     "output_type": "stream",
     "text": [
      "The autoreload extension is already loaded. To reload it, use:\n",
      "  %reload_ext autoreload\n"
     ]
    }
   ],
   "source": [
    "%load_ext autoreload\n",
    "%autoreload 2\n",
    "\n",
    "\n",
    "import sys\n",
    "sys.path.append(\"..\")"
   ]
  },
  {
   "cell_type": "markdown",
   "metadata": {},
   "source": [
    "Now, iText2KG is compatible with all language models supported by LangChain. \n",
    "\n",
    "To use iText2KG, you will need both a chat model and an embeddings model. \n",
    "\n",
    "For available chat models, refer to the options listed at: https://python.langchain.com/v0.2/docs/integrations/chat/. \n",
    "For embedding models, explore the choices at: https://python.langchain.com/v0.2/docs/integrations/text_embedding/. \n",
    "\n",
    "This notebook will show you how to run iText2KG using Mistral, Ollama, and OpenAI models. \n",
    "\n",
    "**Please ensure that you install the necessary package for each chat model before use.**"
   ]
  },
  {
   "cell_type": "markdown",
   "metadata": {},
   "source": [
    "# Mistral"
   ]
  },
  {
   "cell_type": "markdown",
   "metadata": {},
   "source": [
    "For Mistral, please set up your model using the tutorial here: https://python.langchain.com/v0.2/docs/integrations/chat/mistralai/. Similarly, for the embedding model, follow the setup guide here: https://python.langchain.com/v0.2/docs/integrations/text_embedding/mistralai/ ."
   ]
  },
  {
   "cell_type": "markdown",
   "metadata": {},
   "source": [
    "# OpenAI"
   ]
  },
  {
   "cell_type": "markdown",
   "metadata": {},
   "source": [
    "The same applies for OpenAI. \n",
    "\n",
    "please setup your model using the tutorial : https://python.langchain.com/v0.2/docs/integrations/chat/openai/\n",
    "The same for embedding model : https://python.langchain.com/v0.2/docs/integrations/text_embedding/openai/"
   ]
  },
  {
   "cell_type": "code",
   "execution_count": 2,
   "metadata": {},
   "outputs": [],
   "source": [
    "from langchain_openai import ChatOpenAI, OpenAIEmbeddings\n",
    "\n",
    "openai_api_key = \"##\"\n",
    "\n",
    "openai_llm_model = llm = ChatOpenAI(\n",
    "    api_key = openai_api_key,\n",
    "    model=\"gpt-4o\",\n",
    "    temperature=0,\n",
    "    max_tokens=None,\n",
    "    timeout=None,\n",
    "    max_retries=2,\n",
    ")\n",
    "\n",
    "openai_embeddings_model = OpenAIEmbeddings(\n",
    "    api_key = openai_api_key ,\n",
    "    model=\"text-embedding-3-large\",\n",
    ")"
   ]
  },
  {
   "cell_type": "markdown",
   "metadata": {},
   "source": [
    "# Ollama"
   ]
  },
  {
   "cell_type": "markdown",
   "metadata": {},
   "source": [
    "The same applies for Ollama. \n",
    "\n",
    "please setup your model using the tutorial : https://python.langchain.com/v0.2/docs/integrations/chat/ollama/\n",
    "The same for embedding model : https://python.langchain.com/v0.2/docs/integrations/text_embedding/openai/"
   ]
  },
  {
   "cell_type": "code",
   "execution_count": 8,
   "metadata": {},
   "outputs": [],
   "source": [
    "from langchain_ollama import ChatOllama, OllamaEmbeddings\n",
    "\n",
    "llm = ChatOllama(\n",
    "    model=\"llama3\",\n",
    "    temperature=0,\n",
    "    max_retries=5,\n",
    "    max_tokens=None,\n",
    ")\n",
    "\n",
    "embeddings = OllamaEmbeddings(\n",
    "    model=\"llama3\",\n",
    ")"
   ]
  },
  {
   "cell_type": "markdown",
   "metadata": {},
   "source": [
    "# iText2KG"
   ]
  },
  {
   "cell_type": "markdown",
   "metadata": {},
   "source": [
    "* Use Case: We aim to connect an online job description with a generated CV using Knowledge Graphs. \n",
    "\n",
    "* The objective is to assess the candidate's suitability for the job offer. You can utilize different LLM or embedding models for each module of iText2KG. However, it is important to ensure that the dimensions of node and relation embeddings are consistent across models. If the embedding dimensions differ, cosine similarity may struggle to accurately measure vector distances for further matching."
   ]
  },
  {
   "cell_type": "markdown",
   "metadata": {},
   "source": [
    "## Document Distiller"
   ]
  },
  {
   "cell_type": "markdown",
   "metadata": {},
   "source": [
    "### CV"
   ]
  },
  {
   "cell_type": "code",
   "execution_count": 9,
   "metadata": {},
   "outputs": [
    {
     "data": {
      "text/plain": [
       "[Document(metadata={'source': '../datasets/cvs/Emily_Davis.txt'}, page_content=\"{'name': 'Emily Davis',\\n 'phone_number': '+1 567 890 1234',\\n 'email': 'emilydavis@example.com',\\n 'linkedin': 'linkedin.com/in/emilydavis',\\n 'summary': 'Creative and passionate graphic designer with a keen eye for aesthetics and visual storytelling. Experienced in creating compelling designs for various media, including print and digital platforms.',\\n 'work_experience': [{'title': 'Senior Graphic Designer',\\n   'company': 'MNO Creative',\\n   'location': 'Boston, MA',\\n   'start_date': 'June 2017',\\n   'end_date': 'Present',\\n   'responsibilities': ['Designed logos, brochures, and social media graphics.',\\n    'Collaborated with clients to understand their vision and deliver high-quality designs.',\\n    'Managed multiple projects simultaneously.']}],\\n 'education': [{'degree': 'Bachelor of Fine Arts in Graphic Design',\\n   'institution': 'Rhode Island School of Design',\\n   'location': '',\\n   'start_date': '',\\n   'end_date': 'May 2017',\\n   'coursework': []},\\n  {'degree': 'Adobe Certified Expert',\\n   'institution': '',\\n   'location': '',\\n   'start_date': '',\\n   'end_date': '',\\n   'coursework': []},\\n  {'degree': 'UX Design Certification',\\n   'institution': 'Nielsen Norman Group',\\n   'location': '',\\n   'start_date': '',\\n   'end_date': '',\\n   'coursework': []}],\\n 'skills': ['Adobe Creative Suite (Photoshop, Illustrator, InDesign)',\\n  'Sketch',\\n  'Figma',\\n  'Creativity',\\n  'communication',\\n  'time management',\\n  'Illustration',\\n  'Photography',\\n  'Traveling'],\\n 'certifications': ['Adobe Certified Expert',\\n  'UX Design Certification by Nielsen Norman Group'],\\n 'languages': [],\\n 'volunteer_work': []}\\n\")]"
      ]
     },
     "execution_count": 9,
     "metadata": {},
     "output_type": "execute_result"
    }
   ],
   "source": [
    "from langchain.document_loaders import PyPDFLoader, TextLoader\n",
    "\n",
    "loader = TextLoader(\"../datasets/cvs/Emily_Davis.txt\")\n",
    "pages = loader.load()\n",
    "pages\n",
    "\n",
    "# loader = PyPDFLoader(f\"../datasets/cvs/CV_Jane_Smith.pdf\")\n",
    "# pages = loader.load_and_split()"
   ]
  },
  {
   "cell_type": "code",
   "execution_count": 10,
   "metadata": {},
   "outputs": [],
   "source": [
    "from itext2kg.documents_distiller import DocumentsDisiller, CV\n",
    "\n",
    "document_distiller = DocumentsDisiller(llm_model = llm)"
   ]
  },
  {
   "cell_type": "code",
   "execution_count": 11,
   "metadata": {
    "scrolled": true
   },
   "outputs": [
    {
     "name": "stdout",
     "output_type": "stream",
     "text": [
      "[{'name': 'Emily Davis', 'phone_number': '+1 567 890 1234', 'email': 'emilydavis@example.com', 'linkedin': 'linkedin.com/in/emilydavis', 'summary': 'Creative and passionate graphic designer with a keen eye for aesthetics and visual storytelling. Experienced in creating compelling designs for various media, including print and digital platforms.', 'work_experience': [{'title': 'Senior Graphic Designer', 'company': 'MNO Creative', 'location': 'Boston, MA', 'start_date': 'June 2017', 'end_date': 'Present', 'responsibilities': ['Designed logos, brochures, and social media graphics.', 'Collaborated with clients to understand their vision and deliver high-quality designs.', 'Managed multiple projects simultaneously.']}], 'education': [], 'skills': ['Adobe Creative Suite (Photoshop, Illustrator, InDesign)', 'Sketch', 'Figma', 'Creativity', 'communication', 'time management', 'Illustration', 'Photography', 'Traveling'], 'certifications': ['Adobe Certified Expert', 'UX Design Certification by Nielsen Norman Group'], 'languages': [], 'volunteer_work': []}]\n"
     ]
    }
   ],
   "source": [
    "IE_query = '''\n",
    "# DIRECTIVES : \n",
    "- Act like an experienced information extractor. \n",
    "- You have a chunk of a CV.\n",
    "- If you do not find the right information, keep its place empty.\n",
    "'''\n",
    "# we have replaced the curly braces with square brackets to avoid the error in the query\n",
    "distilled_cv = document_distiller.distill(documents=[page.page_content.replace(\"{\", \"\").replace(\"}\", \"\") for page in pages], IE_query=IE_query, output_data_structure=CV)"
   ]
  },
  {
   "cell_type": "code",
   "execution_count": 12,
   "metadata": {},
   "outputs": [
    {
     "data": {
      "text/plain": [
       "['name - Emily Davis',\n",
       " 'phone_number - +1 567 890 1234',\n",
       " 'email - emilydavis@example.com',\n",
       " 'linkedin - linkedin.com/in/emilydavis',\n",
       " 'summary - Creative and passionate graphic designer with a keen eye for aesthetics and visual storytelling. Experienced in creating compelling designs for various media, including print and digital platforms.',\n",
       " \"work_experience - [['title': 'Senior Graphic Designer', 'company': 'MNO Creative', 'location': 'Boston, MA', 'start_date': 'June 2017', 'end_date': 'Present', 'responsibilities': ['Designed logos, brochures, and social media graphics.', 'Collaborated with clients to understand their vision and deliver high-quality designs.', 'Managed multiple projects simultaneously.']]]\",\n",
       " \"skills - ['Adobe Creative Suite (Photoshop, Illustrator, InDesign)', 'Sketch', 'Figma', 'Creativity', 'communication', 'time management', 'Illustration', 'Photography', 'Traveling']\",\n",
       " \"certifications - ['Adobe Certified Expert', 'UX Design Certification by Nielsen Norman Group']\"]"
      ]
     },
     "execution_count": 12,
     "metadata": {},
     "output_type": "execute_result"
    }
   ],
   "source": [
    "semantic_blocks_cv = [f\"{key} - {value}\".replace(\"{\", \"[\").replace(\"}\", \"]\") for key, value in distilled_cv.items() if value !=[] and value != \"\"  and value != None]\n",
    "semantic_blocks_cv"
   ]
  },
  {
   "cell_type": "markdown",
   "metadata": {},
   "source": [
    "### Job description"
   ]
  },
  {
   "cell_type": "code",
   "execution_count": 39,
   "metadata": {},
   "outputs": [],
   "source": [
    "job_offer = \"\"\" \n",
    "About the Job Offer\n",
    "THE FICTITIOUS COMPANY\n",
    "\n",
    "FICTITIOUS COMPANY is a high-end French fashion brand known for its graphic and poetic style, driven by the values of authenticity and transparency upheld by its creator Simon Porte Jacquemus.\n",
    "\n",
    "Your Role\n",
    "\n",
    "Craft visual stories that captivate, inform, and inspire. Transform concepts and ideas into visual representations. As a member of the studio, in collaboration with the designers and under the direction of the Creative Designer, you should be able to take written or spoken ideas and convert them into designs that resonate. You need to have a deep understanding of the brand image and DNA, being able to find the style and layout suited to each project.\n",
    "\n",
    "Your Missions\n",
    "\n",
    "Translate creative direction into high-quality silhouettes using Photoshop\n",
    "Work on a wide range of projects to visualize and develop graphic designs that meet each brief\n",
    "Work independently as well as in collaboration with the studio team to meet deadlines, potentially handling five or more projects simultaneously\n",
    "Develop color schemes and renderings in Photoshop, categorized by themes, subjects, etc.\n",
    "Your Profile\n",
    "\n",
    "Bachelor’s degree (Bac+3/5) in Graphic Design or Art\n",
    "3 years of experience in similar roles within a luxury brand's studio\n",
    "Proficiency in Adobe Suite, including Illustrator, InDesign, Photoshop\n",
    "Excellent communication and presentation skills\n",
    "Strong organizational and time management skills to meet deadlines in a fast-paced environment\n",
    "Good understanding of the design process\n",
    "Freelance contract possibility\n",
    "\"\"\""
   ]
  },
  {
   "cell_type": "code",
   "execution_count": 40,
   "metadata": {},
   "outputs": [],
   "source": [
    "job_offer_2 = \"\"\" \n",
    "About the Job Offer\n",
    "About The Role\n",
    "\n",
    "Innovate Design Co. is seeking a talented Visual Designer with expertise in web and interactive design to enhance our visual brand identity. This role is responsible for external digital storytelling and communications design.\n",
    "\n",
    "You'll be in charge of designing and developing engaging web pages, infographics, social media content, and global digital experiences that effectively convey our cutting-edge technology and products to diverse audiences.\n",
    "\n",
    "Responsibilities\n",
    "\n",
    "Translate our core values, product, marketing, and sales objectives into beautifully crafted deliverables\n",
    "Design compelling, brand-aligned digital and print materials, including websites, social media content, ads, third-party marketplaces, presentations, animations, events, prints, etc.\n",
    "Develop and maintain visual brand identity guidelines, ensuring brand consistency across all media and multichannel platforms\n",
    "Communicate Innovate Design Co.'s narrative through conversion and data-driven design\n",
    "Participate in brainstorming sessions and collaborate with stakeholders to articulate a creative vision that enhances our brand’s visual storytelling\n",
    "Promote design comprehension and sensibility across the organization, refining work methodologies and design processes to enhance efficiency and effectiveness\n",
    "Required Qualifications\n",
    "\n",
    "A Bachelor’s degree (or equivalent) in Graphic Design / Visual Arts - or a self-starter with a strong creative project track record\n",
    "5-7 years of experience in Graphic Design, including brand design, 360° marketing and communications design, product brand design, 0-to-1 projects, front-end development, etc.\n",
    "Work experience within well-structured design departments operating in the tech/software space (including leading creative agencies, scale-ups, and mature tech companies)\n",
    "Proficiency in Figma, Adobe CC, print design best practices, and a solid understanding of web technologies (HTML, CSS, JS)\n",
    "A robust portfolio demonstrating a variety of design projects, showcasing creativity, originality, consistency, and attention to detail\n",
    "Perfectly fluent in English, both written and spoken\n",
    "Results-oriented, resourceful, innovative, intellectually curious, no-ego, proactive\n",
    "Highly collaborative and able to balance multiple projects and stakeholders\n",
    "Professional behavior with personal accountability, drive, and work ethics\n",
    "You may be a good fit if you\n",
    "\n",
    "Share our excitement for the AI/technology space\n",
    "Drive projects independently, make judgments based on brand and business goals, seek feedback, collaborate cross-functionally, and leverage others' expertise\n",
    "Maintain high design standards without perfectionism, understanding tradeoffs in a fast-paced environment\n",
    "Understand audience feelings, cultures, and challenges through an inquisitive and learning-based approach\n",
    "What We Offer\n",
    "\n",
    "The ability to shape the exciting journey of technology and be part of the very early days of one of Europe’s hottest startups\n",
    "A fun, young, international, and multicultural team — based in Paris, London, and San Francisco\n",
    "Beautiful office space in the heart of Paris (Canal St Martin)\n",
    "Competitive salary and benefits package\n",
    "Opportunities for professional growth and development\n",
    "\"\"\""
   ]
  },
  {
   "cell_type": "code",
   "execution_count": 41,
   "metadata": {},
   "outputs": [],
   "source": [
    "from pydantic import BaseModel, Field\n",
    "from typing import List, Optional\n",
    "\n",
    "class JobResponsibility(BaseModel):\n",
    "    description: str = Field(..., description=\"A specific responsibility in the job role\")\n",
    "\n",
    "class JobQualification(BaseModel):\n",
    "    skill: str = Field(..., description=\"A required or preferred skill for the job\")\n",
    "\n",
    "class JobCertification(BaseModel):\n",
    "    certification: str = Field(..., description=\"Required or preferred certifications for the job\")\n",
    "\n",
    "class JobOffer(BaseModel):\n",
    "    job_offer_title: str = Field(..., description=\"The job title\")\n",
    "    company: str = Field(..., description=\"The name of the company offering the job\")\n",
    "    location: str = Field(..., description=\"The job location (can specify if remote/hybrid)\")\n",
    "    job_type: str = Field(..., description=\"Type of job (e.g., full-time, part-time, contract)\")\n",
    "    responsibilities: List[JobResponsibility] = Field(..., description=\"List of key responsibilities\")\n",
    "    qualifications: List[JobQualification] = Field(..., description=\"List of required or preferred qualifications\")\n",
    "    certifications: Optional[List[JobCertification]] = Field(None, description=\"Required or preferred certifications\")\n",
    "    benefits: Optional[List[str]] = Field(None, description=\"List of job benefits\")\n",
    "    experience_required: str = Field(..., description=\"Required years of experience\")\n",
    "    salary_range: Optional[str] = Field(None, description=\"Salary range for the position\")\n",
    "    apply_url: Optional[str] = Field(None, description=\"URL to apply for the job\")"
   ]
  },
  {
   "cell_type": "code",
   "execution_count": 42,
   "metadata": {
    "scrolled": true
   },
   "outputs": [
    {
     "name": "stdout",
     "output_type": "stream",
     "text": [
      "[{'job_offer_title': 'About the Job Offer', 'company': 'FICTITIOUS COMPANY', 'location': '', 'job_type': 'Contract', 'responsibilities': [{'$ref': '#/$defs/JobResponsibility'}, {'description': 'Translate creative direction into high-quality silhouettes using Photoshop'}, {'description': 'Work on a wide range of projects to visualize and develop graphic designs that meet each brief'}, {'description': 'Work independently as well as in collaboration with the studio team to meet deadlines, potentially handling five or more projects simultaneously'}, {'description': 'Develop color schemes and renderings in Photoshop, categorized by themes, subjects, etc.'}], 'qualifications': [{'$ref': '#/$defs/JobQualification'}, {'skill': 'Bachelor’s degree (Bac+3/5) in Graphic Design or Art'}, {'skill': \"3 years of experience in similar roles within a luxury brand's studio\"}, {'skill': 'Proficiency in Adobe Suite, including Illustrator, InDesign, Photoshop'}, {'skill': 'Excellent communication and presentation skills'}, {'skill': 'Strong organizational and time management skills to meet deadlines in a fast-paced environment'}, {'skill': 'Good understanding of the design process'}], 'certifications': None, 'benefits': None, 'experience_required': '3 years', 'salary_range': None, 'apply_url': 'Freelance contract possibility'}]\n"
     ]
    }
   ],
   "source": [
    "IE_query = '''\n",
    "# DIRECTIVES : \n",
    "- Act like an experienced information extractor. \n",
    "- You have a chunk of a job offer description.\n",
    "- If you do not find the right information, keep its place empty.\n",
    "'''\n",
    "# we have replaced the curly braces with square brackets to avoid the error in the query\n",
    "distilled_Job_Offer = document_distiller.distill(documents=[job_offer], IE_query=IE_query, output_data_structure=JobOffer)"
   ]
  },
  {
   "cell_type": "code",
   "execution_count": 43,
   "metadata": {},
   "outputs": [],
   "source": [
    "semantic_blocks_job_offer = [f\"{key} - {value}\".replace(\"{\", \"[\").replace(\"}\", \"]\") for key, value in distilled_Job_Offer.items() if value !=[] and value != \"\"  and value != None]"
   ]
  },
  {
   "cell_type": "code",
   "execution_count": 44,
   "metadata": {},
   "outputs": [
    {
     "name": "stdout",
     "output_type": "stream",
     "text": [
      "[{'job_offer_title': 'About the Job Offer', 'company': 'Innovate Design Co.', 'location': 'Paris, London, and San Francisco (Canal St Martin)', 'job_type': 'Full-time', 'responsibilities': [{'$ref': '#/$defs/JobResponsibility', 'description': 'Translate our core values, product, marketing, and sales objectives into beautifully crafted deliverables'}, {'$ref': '#/$defs/JobResponsibility', 'description': 'Design compelling, brand-aligned digital and print materials, including websites, social media content, ads, third-party marketplaces, presentations, animations, events, prints, etc.'}, {'$ref': '#/$defs/JobResponsibility', 'description': 'Develop and maintain visual brand identity guidelines, ensuring brand consistency across all media and multichannel platforms'}, {'$ref': '#/$defs/JobResponsibility', 'description': \"Communicate Innovate Design Co.'s narrative through conversion and data-driven design\"}, {'$ref': '#/$defs/JobResponsibility', 'description': 'Participate in brainstorming sessions and collaborate with stakeholders to articulate a creative vision that enhances our brand’s visual storytelling'}, {'$ref': '#/$defs/JobResponsibility', 'description': 'Promote design comprehension and sensibility across the organization, refining work methodologies and design processes to enhance efficiency and effectiveness'}], 'qualifications': [{'$ref': '#/$defs/JobQualification', 'skill': 'A Bachelor’s degree (or equivalent) in Graphic Design / Visual Arts - or a self-starter with a strong creative project track record'}, {'$ref': '#/$defs/JobQualification', 'skill': '5-7 years of experience in Graphic Design, including brand design, 360° marketing and communications design, product brand design, 0-to-1 projects, front-end development, etc.'}, {'$ref': '#/$defs/JobQualification', 'skill': 'Work experience within well-structured design departments operating in the tech/software space (including leading creative agencies, scale-ups, and mature tech companies)'}, {'$ref': '#/$defs/JobQualification', 'skill': 'Proficiency in Figma, Adobe CC, print design best practices, and a solid understanding of web technologies (HTML, CSS, JS)'}, {'$ref': '#/$defs/JobQualification', 'skill': 'A robust portfolio demonstrating a variety of design projects, showcasing creativity, originality, consistency, and attention to detail'}], 'certifications': None, 'benefits': ['The ability to shape the exciting journey of technology and be part of the very early days of one of Europe’s hottest startups', 'A fun, young, international team', 'Competitive salary range', 'Opportunities for professional growth and development'], 'experience_required': '5-7 years', 'salary_range': None, 'apply_url': None}]\n"
     ]
    }
   ],
   "source": [
    "distilled_Job_Offer_2 = document_distiller.distill(documents=[job_offer_2], IE_query=IE_query, output_data_structure=JobOffer)\n",
    "semantic_blocks_job_offer_2 = [f\"{key} - {value}\".replace(\"{\", \"[\").replace(\"}\", \"]\") for key, value in distilled_Job_Offer_2.items() if value !=[] and value != \"\"  and value != None]"
   ]
  },
  {
   "cell_type": "markdown",
   "metadata": {},
   "source": [
    "## iText2KG for graph construction"
   ]
  },
  {
   "cell_type": "code",
   "execution_count": 45,
   "metadata": {},
   "outputs": [],
   "source": [
    "from itext2kg import iText2KG\n",
    "\n",
    "\n",
    "itext2kg = iText2KG(llm_model = llm, embeddings_model = embeddings)"
   ]
  },
  {
   "cell_type": "markdown",
   "metadata": {},
   "source": [
    "We constructed the first graph. As you can see, we have passed all the semantic blocks of the CV to the LLM as one block. You can also pass the job offer as another semantic block, or you can separate the semantic blocks while constructing the graph.\n",
    "\n",
    "You just need to pay attention to how much information is contained within each block. For example, the block \"name - Emily Davis\" does not contain much information, which will result in some isolated nodes (even if we reprompt it, it won't converge). It is better to concatenate it with other blocks or pass all the semantic blocks at once as we did here :) .\n",
    "\n",
    "You should also ensure that you pass a substantial amount of information within each block. If there is a lot of information, you will have a well-formed graph. However, the nodes may contain merged concepts (phrases from paragraphs).\n",
    "\n",
    "You need to find the optimal amount of information to include (you can experiment by iterating)."
   ]
  },
  {
   "cell_type": "code",
   "execution_count": 46,
   "metadata": {
    "scrolled": true
   },
   "outputs": [
    {
     "name": "stdout",
     "output_type": "stream",
     "text": [
      "[INFO] Extracting Entities from the Document 1\n",
      "{'entities': [{'label': 'Person', 'name': 'Emily Davis'}, {'label': 'Process', 'name': 'Senior Graphic Designer'}]}\n",
      "[INFO] Extracting Relations from the Document 1\n",
      "{'relationships': [{'startNode': 'Emily Davis', 'endNode': 'Senior Graphic Designer', 'name': 'Works As'}]}\n",
      "[INFO] The isolated entities are  [{'label': 'Person', 'name': 'emily davis', 'properties': {'embeddings': array([-0.01584088, -0.00927059,  0.01920192, ..., -0.00695282,\n",
      "       -0.00056115,  0.00781327])}}, {'label': 'Process', 'name': 'senior graphic designer', 'properties': {'embeddings': array([ 0.00499245,  0.00576018,  0.02761992, ...,  0.00557556,\n",
      "        0.00663689, -0.00528985])}}]\n",
      "Some isolated entities without relations were detected ... trying to solve them!\n",
      "{'relationships': [{'startNode': 'Emily Davis', 'endNode': 'Senior Graphic Designer', 'name': 'work_experience'}]}\n",
      "[INFO] The isolated entities are  [{'label': 'Person', 'name': 'emily davis', 'properties': {'embeddings': array([-0.01584088, -0.00927059,  0.01920192, ..., -0.00695282,\n",
      "       -0.00056115,  0.00781327])}}, {'label': 'Process', 'name': 'senior graphic designer', 'properties': {'embeddings': array([ 0.00499245,  0.00576018,  0.02761992, ...,  0.00557556,\n",
      "        0.00663689, -0.00528985])}}]\n",
      "Some isolated entities without relations were detected ... trying to solve them!\n",
      "{'relationships': [{'startNode': 'Emily Davis', 'endNode': 'Senior Graphic Designer', 'name': 'work_experience'}]}\n",
      "[INFO] The isolated entities are  [{'label': 'Person', 'name': 'emily davis', 'properties': {'embeddings': array([-0.01584088, -0.00927059,  0.01920192, ..., -0.00695282,\n",
      "       -0.00056115,  0.00781327])}}, {'label': 'Process', 'name': 'senior graphic designer', 'properties': {'embeddings': array([ 0.00499245,  0.00576018,  0.02761992, ...,  0.00557556,\n",
      "        0.00663689, -0.00528985])}}]\n",
      "Some isolated entities without relations were detected ... trying to solve them!\n",
      "{'relationships': [{'startNode': 'Emily Davis', 'endNode': 'Senior Graphic Designer', 'name': 'work_experience'}]}\n",
      "[INFO] The isolated entities are  [{'label': 'Person', 'name': 'emily davis', 'properties': {'embeddings': array([-0.01584088, -0.00927059,  0.01920192, ..., -0.00695282,\n",
      "       -0.00056115,  0.00781327])}}, {'label': 'Process', 'name': 'senior graphic designer', 'properties': {'embeddings': array([ 0.00499245,  0.00576018,  0.02761992, ...,  0.00557556,\n",
      "        0.00663689, -0.00528985])}}]\n",
      "Some isolated entities without relations were detected ... trying to solve them!\n",
      "{'relationships': [{'startNode': 'Emily Davis', 'endNode': 'Senior Graphic Designer', 'name': 'work_experience'}]}\n",
      "[INFO] The isolated entities are  [{'label': 'Person', 'name': 'emily davis', 'properties': {'embeddings': array([-0.01584088, -0.00927059,  0.01920192, ..., -0.00695282,\n",
      "       -0.00056115,  0.00781327])}}, {'label': 'Process', 'name': 'senior graphic designer', 'properties': {'embeddings': array([ 0.00499245,  0.00576018,  0.02761992, ...,  0.00557556,\n",
      "        0.00663689, -0.00528985])}}]\n",
      "Some isolated entities without relations were detected ... trying to solve them!\n",
      "{'relationships': [{'startNode': 'Emily Davis', 'endNode': 'Senior Graphic Designer', 'name': 'work_experience'}]}\n",
      "[INFO] Wohoo ! Entity using embeddings is matched --- Emily Davis -merged--> emily davis \n",
      "[INFO] Wohoo ! Entity using embeddings is matched --- Senior Graphic Designer -merged--> senior graphic designer \n",
      "[INFO] Wohoo ! Entity using embeddings is matched --- Emily Davis -merged--> emily davis \n",
      "[INFO] Wohoo ! Entity using embeddings is matched --- Senior Graphic Designer -merged--> senior graphic designer \n",
      "[INFO] Wohoo ! Entity using embeddings is matched --- Emily Davis -merged--> emily davis \n",
      "[INFO] Wohoo ! Entity using embeddings is matched --- Senior Graphic Designer -merged--> senior graphic designer \n",
      "[INFO] Wohoo ! Entity using embeddings is matched --- Emily Davis -merged--> emily davis \n",
      "[INFO] Wohoo ! Entity using embeddings is matched --- Senior Graphic Designer -merged--> senior graphic designer \n",
      "[INFO] Wohoo ! Entity using embeddings is matched --- Emily Davis -merged--> emily davis \n",
      "[INFO] Wohoo ! Entity using embeddings is matched --- Senior Graphic Designer -merged--> senior graphic designer \n",
      "[INFO] Wohoo ! Entity using embeddings is matched --- Emily Davis -merged--> emily davis \n",
      "[INFO] Wohoo ! Entity using embeddings is matched --- Senior Graphic Designer -merged--> senior graphic designer \n"
     ]
    }
   ],
   "source": [
    "global_ent, global_rel = itext2kg.build_graph(sections=[semantic_blocks_cv], ent_threshold=0.6, rel_threshold=0.6)"
   ]
  },
  {
   "cell_type": "markdown",
   "metadata": {},
   "source": [
    "We construct the second graph of the job offers, noting that we already have existing entities and relationships (of the CV)."
   ]
  },
  {
   "cell_type": "code",
   "execution_count": 47,
   "metadata": {
    "scrolled": true
   },
   "outputs": [
    {
     "name": "stdout",
     "output_type": "stream",
     "text": [
      "[INFO] Extracting Entities from the Document 1\n",
      "{'entities': [{'label': 'Job', 'name': 'Graphic Designer'}, {'label': 'Company', 'name': 'FICTITIOUS COMPANY'}]}\n",
      "[INFO] Extracting Relations from the Document 1\n",
      "{'relationships': [{'startNode': 'graphic designer', 'endNode': 'FICTITIOUS COMPANY', 'name': 'employs'}]}\n",
      "[INFO] The isolated entities are  [{'label': 'Company', 'name': 'fictitious company', 'properties': {'embeddings': array([-0.00447414, -0.02116995,  0.01478735, ...,  0.00205458,\n",
      "       -0.00464939, -0.0059599 ])}}]\n",
      "Some isolated entities without relations were detected ... trying to solve them!\n",
      "{'relationships': [{'startNode': 'graphic designer', 'endNode': 'FICTITIOUS COMPANY', 'name': 'has_experience_in_similar_roles'}]}\n",
      "[INFO] The isolated entities are  [{'label': 'Company', 'name': 'fictitious company', 'properties': {'embeddings': array([-0.00447414, -0.02116995,  0.01478735, ...,  0.00205458,\n",
      "       -0.00464939, -0.0059599 ])}}]\n",
      "Some isolated entities without relations were detected ... trying to solve them!\n",
      "{'relationships': [{'startNode': 'graphic designer', 'endNode': 'FICTITIOUS COMPANY', 'name': 'has_experience_in_similar_roles'}]}\n",
      "[INFO] The isolated entities are  [{'label': 'Company', 'name': 'fictitious company', 'properties': {'embeddings': array([-0.00447414, -0.02116995,  0.01478735, ...,  0.00205458,\n",
      "       -0.00464939, -0.0059599 ])}}]\n",
      "Some isolated entities without relations were detected ... trying to solve them!\n",
      "{'relationships': [{'startNode': 'graphic designer', 'endNode': 'FICTITIOUS COMPANY', 'name': 'has_experience_in_similar_roles'}]}\n",
      "[INFO] The isolated entities are  [{'label': 'Company', 'name': 'fictitious company', 'properties': {'embeddings': array([-0.00447414, -0.02116995,  0.01478735, ...,  0.00205458,\n",
      "       -0.00464939, -0.0059599 ])}}]\n",
      "Some isolated entities without relations were detected ... trying to solve them!\n",
      "{'relationships': [{'startNode': 'graphic designer', 'endNode': 'FICTITIOUS COMPANY', 'name': 'has_experience_in_similar_roles'}]}\n",
      "[INFO] The isolated entities are  [{'label': 'Company', 'name': 'fictitious company', 'properties': {'embeddings': array([-0.00447414, -0.02116995,  0.01478735, ...,  0.00205458,\n",
      "       -0.00464939, -0.0059599 ])}}]\n",
      "Some isolated entities without relations were detected ... trying to solve them!\n",
      "{'relationships': [{'startNode': 'graphic designer', 'endNode': 'FICTITIOUS COMPANY', 'name': 'has_experience_in_similar_roles'}]}\n",
      "[INFO] Wohoo ! Entity using embeddings is matched --- FICTITIOUS COMPANY -merged--> fictitious company \n",
      "[INFO] Wohoo ! Entity using embeddings is matched --- FICTITIOUS COMPANY -merged--> fictitious company \n",
      "[INFO] Wohoo ! Entity using embeddings is matched --- FICTITIOUS COMPANY -merged--> fictitious company \n",
      "[INFO] Wohoo ! Entity using embeddings is matched --- FICTITIOUS COMPANY -merged--> fictitious company \n",
      "[INFO] Wohoo ! Entity using embeddings is matched --- FICTITIOUS COMPANY -merged--> fictitious company \n",
      "[INFO] Wohoo ! Entity using embeddings is matched --- FICTITIOUS COMPANY -merged--> fictitious company \n",
      "[INFO] Extracting Entities from the Document 2\n",
      "{'entities': [{'label': 'Job Offer', 'name': 'About the Job Offer'}, {'label': 'Company', 'name': 'Innovate Design Co.'}, {'label': 'Location', 'name': 'Paris, London, and San Francisco (Canal St Martin)'}, {'label': 'Job Type', 'name': 'Full-time'}, {'label': 'Responsibilities', 'name': ['Translate our core values, product, marketing, and sales objectives into beautifully crafted deliverables', 'Design compelling, brand-aligned digital and print materials, including websites, social media content, ads, third-party marketplaces, presentations, animations, events, prints, etc.', 'Develop and maintain visual brand identity guidelines, ensuring brand consistency across all media and multichannel platforms', \"Communicate Innovate Design Co.'s narrative through conversion and data-driven design\", 'Participate in brainstorming sessions and collaborate with stakeholders to articulate a creative vision that enhances our brand’s visual storytelling', 'Promote design comprehension and sensibility across the organization, refining work methodologies and design processes to enhance efficiency and effectiveness']}, {'label': 'Qualifications', 'name': ['A Bachelor’s degree (or equivalent) in Graphic Design / Visual Arts - or a self-starter with a strong creative project track record', '5-7 years of experience in Graphic Design, including brand design, 360° marketing and communications design, product brand design, 0-to-1 projects, front-end development, etc.', 'Work experience within well-structured design departments operating in the tech/software space (including leading creative agencies, scale-ups, and mature tech companies)', 'Proficiency in Figma, Adobe CC, print design best practices, and a solid understanding of web technologies (HTML, CSS, JS)', 'A robust portfolio demonstrating a variety of design projects, showcasing creativity, originality, consistency, and attention to detail']}, {'label': 'Benefits', 'name': ['The ability to shape the exciting journey of technology and be part of the very early days of one of Europe’s hottest startups', 'A fun, young, international team', 'Competitive salary range', 'Opportunities for professional growth and development']}]}\n",
      "[INFO] Extracting Relations from the Document 2\n",
      "{'relationships': [{'startNode': 'translate our core values, product, marketing, and sales objectives into beautifully crafted deliverables', 'endNode': 'design compelling, brand aligned digital and print materials, including websites, social media content, ads, third party marketplaces, presentations, animations, events, prints, etc.', 'name': 'Design Creation'}, {'startNode': 'develop and maintain visual brand identity guidelines, ensuring brand consistency across all media and multichannel platforms', 'endNode': 'promote design comprehension and sensibility across the organization, refining work methodologies and design processes to enhance efficiency and effectiveness', 'name': 'Brand Management'}, {'startNode': \"communicate innovate design co.'s narrative through conversion and data driven design\", 'endNode': 'participate in brainstorming sessions and collaborate with stakeholders to articulate a creative vision that enhances our brand’s visual storytelling', 'name': 'Storytelling'}]}\n",
      "[INFO] The isolated entities are  [{'label': 'Job Offer', 'name': 'about the job offer', 'properties': {'embeddings': array([-0.01519403, -0.01181279,  0.01700064, ..., -0.0080252 ,\n",
      "        0.0074151 , -0.00961702])}}, {'label': 'Company', 'name': 'innovate design co.', 'properties': {'embeddings': array([ 0.00467274, -0.02104599,  0.02542451, ..., -0.01286071,\n",
      "       -0.02440203, -0.0166277 ])}}, {'label': 'Location', 'name': 'paris, london, and san francisco (canal st martin)', 'properties': {'embeddings': array([ 0.00131088, -0.01223588,  0.03110223, ..., -0.00199854,\n",
      "        0.01018634, -0.00377018])}}, {'label': 'Job Type', 'name': 'full time', 'properties': {'embeddings': array([-1.6611168e-02,  5.2146090e-05,  3.8347840e-03, ...,\n",
      "       -1.2042833e-02, -1.5450866e-02,  1.5430220e-03])}}, {'label': 'Qualifications', 'name': 'a bachelor’s degree (or equivalent) in graphic design / visual arts   or a self starter with a strong creative project track record', 'properties': {'embeddings': array([-0.01413758, -0.00518992,  0.0070357 , ..., -0.01514906,\n",
      "       -0.00937695, -0.00017566])}}, {'label': 'Qualifications', 'name': '5 7 years of experience in graphic design, including brand design, 360° marketing and communications design, product brand design, 0 to 1 projects, front end development, etc.', 'properties': {'embeddings': array([-0.01566926, -0.00748182,  0.02002855, ...,  0.00222134,\n",
      "       -0.00538152, -0.00833673])}}, {'label': 'Qualifications', 'name': 'work experience within well structured design departments operating in the tech/software space (including leading creative agencies, scale ups, and mature tech companies)', 'properties': {'embeddings': array([ 0.00841979, -0.00437946,  0.0244896 , ...,  0.02256725,\n",
      "        0.00511964, -0.0007329 ])}}, {'label': 'Qualifications', 'name': 'proficiency in figma, adobe cc, print design best practices, and a solid understanding of web technologies (html, css, js)', 'properties': {'embeddings': array([-0.02627903, -0.00643543,  0.02179597, ...,  0.00814117,\n",
      "       -0.00342949,  0.00158593])}}, {'label': 'Qualifications', 'name': 'a robust portfolio demonstrating a variety of design projects, showcasing creativity, originality, consistency, and attention to detail', 'properties': {'embeddings': array([-0.01694192, -0.00266019,  0.01205102, ..., -0.01024427,\n",
      "        0.01191025,  0.00243108])}}, {'label': 'Benefits', 'name': 'the ability to shape the exciting journey of technology and be part of the very early days of one of europe’s hottest startups', 'properties': {'embeddings': array([-0.01343307, -0.019386  ,  0.02852365, ..., -0.00309624,\n",
      "        0.00503188, -0.0075791 ])}}, {'label': 'Benefits', 'name': 'a fun, young, international team', 'properties': {'embeddings': array([ 0.00836688,  0.00965418,  0.02851895, ..., -0.01470325,\n",
      "        0.0065536 , -0.00790472])}}, {'label': 'Benefits', 'name': 'competitive salary range', 'properties': {'embeddings': array([ 0.00505831,  0.00321849,  0.00929093, ..., -0.01083683,\n",
      "       -0.00066952,  0.00259159])}}, {'label': 'Benefits', 'name': 'opportunities for professional growth and development', 'properties': {'embeddings': array([ 0.01577674, -0.00312919,  0.01733999, ..., -0.01206842,\n",
      "        0.0125908 ,  0.00185296])}}]\n",
      "Some isolated entities without relations were detected ... trying to solve them!\n",
      "{'relationships': [{'startNode': 'A Bachelor’s degree (or equivalent) in Graphic Design / Visual Arts - or a self-starter with a strong creative project track record', 'endNode': 'Translate our core values, product, marketing, and sales objectives into beautifully crafted deliverables', 'name': 'Requires'}, {'startNode': '5-7 years of experience in Graphic Design, including brand design, 360° marketing and communications design, product brand design, 0-to-1 projects, front-end development, etc.', 'endNode': 'Design compelling, brand-aligned digital and print materials, including websites, social media content, ads, third-party marketplaces, presentations, animations, events, prints, etc.', 'name': 'Has'}, {'startNode': 'Work experience within well-structured design departments operating in the tech/software space (including leading creative agencies, scale-ups, and mature tech companies)', 'endNode': 'Develop and maintain visual brand identity guidelines, ensuring brand consistency across all media and multichannel platforms', 'name': 'Has'}, {'startNode': 'Proficiency in Figma, Adobe CC, print design best practices, and a solid understanding of web technologies (HTML, CSS, JS)', 'endNode': 'Design compelling, brand-aligned digital and print materials, including websites, social media content, ads, third-party marketplaces, presentations, animations, events, prints, etc.', 'name': 'Requires'}, {'startNode': 'A robust portfolio demonstrating a variety of design projects, showcasing creativity, originality, consistency, and attention to detail', 'endNode': 'Design compelling, brand-aligned digital and print materials, including websites, social media content, ads, third-party marketplaces, presentations, animations, events, prints, etc.', 'name': 'Has'}, {'startNode': 'The ability to shape the exciting journey of technology and be part of the very early days of one of Europe’s hottest startups', 'endNode': 'About the Job Offer', 'name': 'Describes'}]}\n",
      "[INFO] Wohoo ! Relation using embeddings is matched --- requires -merged--> employs \n",
      "[INFO] Wohoo ! Relation using embeddings is matched --- requires -merged--> employs \n",
      "[INFO] Wohoo ! Relation using embeddings is matched --- describes -merged--> employs \n",
      "[INFO] The isolated entities are  [{'label': 'Job Offer', 'name': 'about the job offer', 'properties': {'embeddings': array([-0.01519403, -0.01181279,  0.01700064, ..., -0.0080252 ,\n",
      "        0.0074151 , -0.00961702])}}, {'label': 'Company', 'name': 'innovate design co.', 'properties': {'embeddings': array([ 0.00467274, -0.02104599,  0.02542451, ..., -0.01286071,\n",
      "       -0.02440203, -0.0166277 ])}}, {'label': 'Location', 'name': 'paris, london, and san francisco (canal st martin)', 'properties': {'embeddings': array([ 0.00131088, -0.01223588,  0.03110223, ..., -0.00199854,\n",
      "        0.01018634, -0.00377018])}}, {'label': 'Job Type', 'name': 'full time', 'properties': {'embeddings': array([-1.6611168e-02,  5.2146090e-05,  3.8347840e-03, ...,\n",
      "       -1.2042833e-02, -1.5450866e-02,  1.5430220e-03])}}, {'label': 'Qualifications', 'name': 'a bachelor’s degree (or equivalent) in graphic design / visual arts   or a self starter with a strong creative project track record', 'properties': {'embeddings': array([-0.01413758, -0.00518992,  0.0070357 , ..., -0.01514906,\n",
      "       -0.00937695, -0.00017566])}}, {'label': 'Qualifications', 'name': '5 7 years of experience in graphic design, including brand design, 360° marketing and communications design, product brand design, 0 to 1 projects, front end development, etc.', 'properties': {'embeddings': array([-0.01566926, -0.00748182,  0.02002855, ...,  0.00222134,\n",
      "       -0.00538152, -0.00833673])}}, {'label': 'Qualifications', 'name': 'work experience within well structured design departments operating in the tech/software space (including leading creative agencies, scale ups, and mature tech companies)', 'properties': {'embeddings': array([ 0.00841979, -0.00437946,  0.0244896 , ...,  0.02256725,\n",
      "        0.00511964, -0.0007329 ])}}, {'label': 'Qualifications', 'name': 'proficiency in figma, adobe cc, print design best practices, and a solid understanding of web technologies (html, css, js)', 'properties': {'embeddings': array([-0.02627903, -0.00643543,  0.02179597, ...,  0.00814117,\n",
      "       -0.00342949,  0.00158593])}}, {'label': 'Qualifications', 'name': 'a robust portfolio demonstrating a variety of design projects, showcasing creativity, originality, consistency, and attention to detail', 'properties': {'embeddings': array([-0.01694192, -0.00266019,  0.01205102, ..., -0.01024427,\n",
      "        0.01191025,  0.00243108])}}, {'label': 'Benefits', 'name': 'the ability to shape the exciting journey of technology and be part of the very early days of one of europe’s hottest startups', 'properties': {'embeddings': array([-0.01343307, -0.019386  ,  0.02852365, ..., -0.00309624,\n",
      "        0.00503188, -0.0075791 ])}}, {'label': 'Benefits', 'name': 'a fun, young, international team', 'properties': {'embeddings': array([ 0.00836688,  0.00965418,  0.02851895, ..., -0.01470325,\n",
      "        0.0065536 , -0.00790472])}}, {'label': 'Benefits', 'name': 'competitive salary range', 'properties': {'embeddings': array([ 0.00505831,  0.00321849,  0.00929093, ..., -0.01083683,\n",
      "       -0.00066952,  0.00259159])}}, {'label': 'Benefits', 'name': 'opportunities for professional growth and development', 'properties': {'embeddings': array([ 0.01577674, -0.00312919,  0.01733999, ..., -0.01206842,\n",
      "        0.0125908 ,  0.00185296])}}]\n",
      "Some isolated entities without relations were detected ... trying to solve them!\n",
      "{'relationships': [{'startNode': 'A Bachelor’s degree (or equivalent) in Graphic Design / Visual Arts - or a self-starter with a strong creative project track record', 'endNode': 'Translate our core values, product, marketing, and sales objectives into beautifully crafted deliverables', 'name': 'Requires'}, {'startNode': '5-7 years of experience in Graphic Design, including brand design, 360° marketing and communications design, product brand design, 0-to-1 projects, front-end development, etc.', 'endNode': 'Design compelling, brand-aligned digital and print materials, including websites, social media content, ads, third-party marketplaces, presentations, animations, events, prints, etc.', 'name': 'Has'}, {'startNode': 'Work experience within well-structured design departments operating in the tech/software space (including leading creative agencies, scale-ups, and mature tech companies)', 'endNode': 'Develop and maintain visual brand identity guidelines, ensuring brand consistency across all media and multichannel platforms', 'name': 'Has'}, {'startNode': 'Proficiency in Figma, Adobe CC, print design best practices, and a solid understanding of web technologies (HTML, CSS, JS)', 'endNode': 'Design compelling, brand-aligned digital and print materials, including websites, social media content, ads, third-party marketplaces, presentations, animations, events, prints, etc.', 'name': 'Requires'}, {'startNode': 'A robust portfolio demonstrating a variety of design projects, showcasing creativity, originality, consistency, and attention to detail', 'endNode': 'Design compelling, brand-aligned digital and print materials, including websites, social media content, ads, third-party marketplaces, presentations, animations, events, prints, etc.', 'name': 'Has'}, {'startNode': 'The ability to shape the exciting journey of technology and be part of the very early days of one of Europe’s hottest startups', 'endNode': 'About the Job Offer', 'name': 'Describes'}]}\n",
      "[INFO] Wohoo ! Relation using embeddings is matched --- requires -merged--> employs \n",
      "[INFO] Wohoo ! Relation using embeddings is matched --- requires -merged--> employs \n",
      "[INFO] Wohoo ! Relation using embeddings is matched --- describes -merged--> employs \n",
      "[INFO] The isolated entities are  [{'label': 'Job Offer', 'name': 'about the job offer', 'properties': {'embeddings': array([-0.01519403, -0.01181279,  0.01700064, ..., -0.0080252 ,\n",
      "        0.0074151 , -0.00961702])}}, {'label': 'Company', 'name': 'innovate design co.', 'properties': {'embeddings': array([ 0.00467274, -0.02104599,  0.02542451, ..., -0.01286071,\n",
      "       -0.02440203, -0.0166277 ])}}, {'label': 'Location', 'name': 'paris, london, and san francisco (canal st martin)', 'properties': {'embeddings': array([ 0.00131088, -0.01223588,  0.03110223, ..., -0.00199854,\n",
      "        0.01018634, -0.00377018])}}, {'label': 'Job Type', 'name': 'full time', 'properties': {'embeddings': array([-1.6611168e-02,  5.2146090e-05,  3.8347840e-03, ...,\n",
      "       -1.2042833e-02, -1.5450866e-02,  1.5430220e-03])}}, {'label': 'Qualifications', 'name': 'a bachelor’s degree (or equivalent) in graphic design / visual arts   or a self starter with a strong creative project track record', 'properties': {'embeddings': array([-0.01413758, -0.00518992,  0.0070357 , ..., -0.01514906,\n",
      "       -0.00937695, -0.00017566])}}, {'label': 'Qualifications', 'name': '5 7 years of experience in graphic design, including brand design, 360° marketing and communications design, product brand design, 0 to 1 projects, front end development, etc.', 'properties': {'embeddings': array([-0.01566926, -0.00748182,  0.02002855, ...,  0.00222134,\n",
      "       -0.00538152, -0.00833673])}}, {'label': 'Qualifications', 'name': 'work experience within well structured design departments operating in the tech/software space (including leading creative agencies, scale ups, and mature tech companies)', 'properties': {'embeddings': array([ 0.00841979, -0.00437946,  0.0244896 , ...,  0.02256725,\n",
      "        0.00511964, -0.0007329 ])}}, {'label': 'Qualifications', 'name': 'proficiency in figma, adobe cc, print design best practices, and a solid understanding of web technologies (html, css, js)', 'properties': {'embeddings': array([-0.02627903, -0.00643543,  0.02179597, ...,  0.00814117,\n",
      "       -0.00342949,  0.00158593])}}, {'label': 'Qualifications', 'name': 'a robust portfolio demonstrating a variety of design projects, showcasing creativity, originality, consistency, and attention to detail', 'properties': {'embeddings': array([-0.01694192, -0.00266019,  0.01205102, ..., -0.01024427,\n",
      "        0.01191025,  0.00243108])}}, {'label': 'Benefits', 'name': 'the ability to shape the exciting journey of technology and be part of the very early days of one of europe’s hottest startups', 'properties': {'embeddings': array([-0.01343307, -0.019386  ,  0.02852365, ..., -0.00309624,\n",
      "        0.00503188, -0.0075791 ])}}, {'label': 'Benefits', 'name': 'a fun, young, international team', 'properties': {'embeddings': array([ 0.00836688,  0.00965418,  0.02851895, ..., -0.01470325,\n",
      "        0.0065536 , -0.00790472])}}, {'label': 'Benefits', 'name': 'competitive salary range', 'properties': {'embeddings': array([ 0.00505831,  0.00321849,  0.00929093, ..., -0.01083683,\n",
      "       -0.00066952,  0.00259159])}}, {'label': 'Benefits', 'name': 'opportunities for professional growth and development', 'properties': {'embeddings': array([ 0.01577674, -0.00312919,  0.01733999, ..., -0.01206842,\n",
      "        0.0125908 ,  0.00185296])}}]\n",
      "Some isolated entities without relations were detected ... trying to solve them!\n",
      "{'relationships': [{'startNode': 'A Bachelor’s degree (or equivalent) in Graphic Design / Visual Arts - or a self-starter with a strong creative project track record', 'endNode': 'Translate our core values, product, marketing, and sales objectives into beautifully crafted deliverables', 'name': 'Requires'}, {'startNode': '5-7 years of experience in Graphic Design, including brand design, 360° marketing and communications design, product brand design, 0-to-1 projects, front-end development, etc.', 'endNode': 'Design compelling, brand-aligned digital and print materials, including websites, social media content, ads, third-party marketplaces, presentations, animations, events, prints, etc.', 'name': 'Has'}, {'startNode': 'Work experience within well-structured design departments operating in the tech/software space (including leading creative agencies, scale-ups, and mature tech companies)', 'endNode': 'Develop and maintain visual brand identity guidelines, ensuring brand consistency across all media and multichannel platforms', 'name': 'Has'}, {'startNode': 'Proficiency in Figma, Adobe CC, print design best practices, and a solid understanding of web technologies (HTML, CSS, JS)', 'endNode': 'Design compelling, brand-aligned digital and print materials, including websites, social media content, ads, third-party marketplaces, presentations, animations, events, prints, etc.', 'name': 'Requires'}, {'startNode': 'A robust portfolio demonstrating a variety of design projects, showcasing creativity, originality, consistency, and attention to detail', 'endNode': 'Design compelling, brand-aligned digital and print materials, including websites, social media content, ads, third-party marketplaces, presentations, animations, events, prints, etc.', 'name': 'Has'}, {'startNode': 'The ability to shape the exciting journey of technology and be part of the very early days of one of Europe’s hottest startups', 'endNode': 'About the Job Offer', 'name': 'Describes'}]}\n",
      "[INFO] Wohoo ! Relation using embeddings is matched --- requires -merged--> employs \n",
      "[INFO] Wohoo ! Relation using embeddings is matched --- requires -merged--> employs \n",
      "[INFO] Wohoo ! Relation using embeddings is matched --- describes -merged--> employs \n",
      "[INFO] The isolated entities are  [{'label': 'Job Offer', 'name': 'about the job offer', 'properties': {'embeddings': array([-0.01519403, -0.01181279,  0.01700064, ..., -0.0080252 ,\n",
      "        0.0074151 , -0.00961702])}}, {'label': 'Company', 'name': 'innovate design co.', 'properties': {'embeddings': array([ 0.00467274, -0.02104599,  0.02542451, ..., -0.01286071,\n",
      "       -0.02440203, -0.0166277 ])}}, {'label': 'Location', 'name': 'paris, london, and san francisco (canal st martin)', 'properties': {'embeddings': array([ 0.00131088, -0.01223588,  0.03110223, ..., -0.00199854,\n",
      "        0.01018634, -0.00377018])}}, {'label': 'Job Type', 'name': 'full time', 'properties': {'embeddings': array([-1.6611168e-02,  5.2146090e-05,  3.8347840e-03, ...,\n",
      "       -1.2042833e-02, -1.5450866e-02,  1.5430220e-03])}}, {'label': 'Qualifications', 'name': 'a bachelor’s degree (or equivalent) in graphic design / visual arts   or a self starter with a strong creative project track record', 'properties': {'embeddings': array([-0.01413758, -0.00518992,  0.0070357 , ..., -0.01514906,\n",
      "       -0.00937695, -0.00017566])}}, {'label': 'Qualifications', 'name': '5 7 years of experience in graphic design, including brand design, 360° marketing and communications design, product brand design, 0 to 1 projects, front end development, etc.', 'properties': {'embeddings': array([-0.01566926, -0.00748182,  0.02002855, ...,  0.00222134,\n",
      "       -0.00538152, -0.00833673])}}, {'label': 'Qualifications', 'name': 'work experience within well structured design departments operating in the tech/software space (including leading creative agencies, scale ups, and mature tech companies)', 'properties': {'embeddings': array([ 0.00841979, -0.00437946,  0.0244896 , ...,  0.02256725,\n",
      "        0.00511964, -0.0007329 ])}}, {'label': 'Qualifications', 'name': 'proficiency in figma, adobe cc, print design best practices, and a solid understanding of web technologies (html, css, js)', 'properties': {'embeddings': array([-0.02627903, -0.00643543,  0.02179597, ...,  0.00814117,\n",
      "       -0.00342949,  0.00158593])}}, {'label': 'Qualifications', 'name': 'a robust portfolio demonstrating a variety of design projects, showcasing creativity, originality, consistency, and attention to detail', 'properties': {'embeddings': array([-0.01694192, -0.00266019,  0.01205102, ..., -0.01024427,\n",
      "        0.01191025,  0.00243108])}}, {'label': 'Benefits', 'name': 'the ability to shape the exciting journey of technology and be part of the very early days of one of europe’s hottest startups', 'properties': {'embeddings': array([-0.01343307, -0.019386  ,  0.02852365, ..., -0.00309624,\n",
      "        0.00503188, -0.0075791 ])}}, {'label': 'Benefits', 'name': 'a fun, young, international team', 'properties': {'embeddings': array([ 0.00836688,  0.00965418,  0.02851895, ..., -0.01470325,\n",
      "        0.0065536 , -0.00790472])}}, {'label': 'Benefits', 'name': 'competitive salary range', 'properties': {'embeddings': array([ 0.00505831,  0.00321849,  0.00929093, ..., -0.01083683,\n",
      "       -0.00066952,  0.00259159])}}, {'label': 'Benefits', 'name': 'opportunities for professional growth and development', 'properties': {'embeddings': array([ 0.01577674, -0.00312919,  0.01733999, ..., -0.01206842,\n",
      "        0.0125908 ,  0.00185296])}}]\n",
      "Some isolated entities without relations were detected ... trying to solve them!\n",
      "{'relationships': [{'startNode': 'A Bachelor’s degree (or equivalent) in Graphic Design / Visual Arts - or a self-starter with a strong creative project track record', 'endNode': 'Translate our core values, product, marketing, and sales objectives into beautifully crafted deliverables', 'name': 'Requires'}, {'startNode': '5-7 years of experience in Graphic Design, including brand design, 360° marketing and communications design, product brand design, 0-to-1 projects, front-end development, etc.', 'endNode': 'Design compelling, brand-aligned digital and print materials, including websites, social media content, ads, third-party marketplaces, presentations, animations, events, prints, etc.', 'name': 'Has'}, {'startNode': 'Work experience within well-structured design departments operating in the tech/software space (including leading creative agencies, scale-ups, and mature tech companies)', 'endNode': 'Develop and maintain visual brand identity guidelines, ensuring brand consistency across all media and multichannel platforms', 'name': 'Has'}, {'startNode': 'Proficiency in Figma, Adobe CC, print design best practices, and a solid understanding of web technologies (HTML, CSS, JS)', 'endNode': 'Design compelling, brand-aligned digital and print materials, including websites, social media content, ads, third-party marketplaces, presentations, animations, events, prints, etc.', 'name': 'Requires'}, {'startNode': 'A robust portfolio demonstrating a variety of design projects, showcasing creativity, originality, consistency, and attention to detail', 'endNode': 'Design compelling, brand-aligned digital and print materials, including websites, social media content, ads, third-party marketplaces, presentations, animations, events, prints, etc.', 'name': 'Has'}, {'startNode': 'The ability to shape the exciting journey of technology and be part of the very early days of one of Europe’s hottest startups', 'endNode': 'About the Job Offer', 'name': 'Describes'}]}\n",
      "[INFO] Wohoo ! Relation using embeddings is matched --- requires -merged--> employs \n",
      "[INFO] Wohoo ! Relation using embeddings is matched --- requires -merged--> employs \n",
      "[INFO] Wohoo ! Relation using embeddings is matched --- describes -merged--> employs \n",
      "[INFO] The isolated entities are  [{'label': 'Job Offer', 'name': 'about the job offer', 'properties': {'embeddings': array([-0.01519403, -0.01181279,  0.01700064, ..., -0.0080252 ,\n",
      "        0.0074151 , -0.00961702])}}, {'label': 'Company', 'name': 'innovate design co.', 'properties': {'embeddings': array([ 0.00467274, -0.02104599,  0.02542451, ..., -0.01286071,\n",
      "       -0.02440203, -0.0166277 ])}}, {'label': 'Location', 'name': 'paris, london, and san francisco (canal st martin)', 'properties': {'embeddings': array([ 0.00131088, -0.01223588,  0.03110223, ..., -0.00199854,\n",
      "        0.01018634, -0.00377018])}}, {'label': 'Job Type', 'name': 'full time', 'properties': {'embeddings': array([-1.6611168e-02,  5.2146090e-05,  3.8347840e-03, ...,\n",
      "       -1.2042833e-02, -1.5450866e-02,  1.5430220e-03])}}, {'label': 'Qualifications', 'name': 'a bachelor’s degree (or equivalent) in graphic design / visual arts   or a self starter with a strong creative project track record', 'properties': {'embeddings': array([-0.01413758, -0.00518992,  0.0070357 , ..., -0.01514906,\n",
      "       -0.00937695, -0.00017566])}}, {'label': 'Qualifications', 'name': '5 7 years of experience in graphic design, including brand design, 360° marketing and communications design, product brand design, 0 to 1 projects, front end development, etc.', 'properties': {'embeddings': array([-0.01566926, -0.00748182,  0.02002855, ...,  0.00222134,\n",
      "       -0.00538152, -0.00833673])}}, {'label': 'Qualifications', 'name': 'work experience within well structured design departments operating in the tech/software space (including leading creative agencies, scale ups, and mature tech companies)', 'properties': {'embeddings': array([ 0.00841979, -0.00437946,  0.0244896 , ...,  0.02256725,\n",
      "        0.00511964, -0.0007329 ])}}, {'label': 'Qualifications', 'name': 'proficiency in figma, adobe cc, print design best practices, and a solid understanding of web technologies (html, css, js)', 'properties': {'embeddings': array([-0.02627903, -0.00643543,  0.02179597, ...,  0.00814117,\n",
      "       -0.00342949,  0.00158593])}}, {'label': 'Qualifications', 'name': 'a robust portfolio demonstrating a variety of design projects, showcasing creativity, originality, consistency, and attention to detail', 'properties': {'embeddings': array([-0.01694192, -0.00266019,  0.01205102, ..., -0.01024427,\n",
      "        0.01191025,  0.00243108])}}, {'label': 'Benefits', 'name': 'the ability to shape the exciting journey of technology and be part of the very early days of one of europe’s hottest startups', 'properties': {'embeddings': array([-0.01343307, -0.019386  ,  0.02852365, ..., -0.00309624,\n",
      "        0.00503188, -0.0075791 ])}}, {'label': 'Benefits', 'name': 'a fun, young, international team', 'properties': {'embeddings': array([ 0.00836688,  0.00965418,  0.02851895, ..., -0.01470325,\n",
      "        0.0065536 , -0.00790472])}}, {'label': 'Benefits', 'name': 'competitive salary range', 'properties': {'embeddings': array([ 0.00505831,  0.00321849,  0.00929093, ..., -0.01083683,\n",
      "       -0.00066952,  0.00259159])}}, {'label': 'Benefits', 'name': 'opportunities for professional growth and development', 'properties': {'embeddings': array([ 0.01577674, -0.00312919,  0.01733999, ..., -0.01206842,\n",
      "        0.0125908 ,  0.00185296])}}]\n",
      "Some isolated entities without relations were detected ... trying to solve them!\n",
      "{'relationships': [{'startNode': 'A Bachelor’s degree (or equivalent) in Graphic Design / Visual Arts - or a self-starter with a strong creative project track record', 'endNode': 'Translate our core values, product, marketing, and sales objectives into beautifully crafted deliverables', 'name': 'Requires'}, {'startNode': '5-7 years of experience in Graphic Design, including brand design, 360° marketing and communications design, product brand design, 0-to-1 projects, front-end development, etc.', 'endNode': 'Design compelling, brand-aligned digital and print materials, including websites, social media content, ads, third-party marketplaces, presentations, animations, events, prints, etc.', 'name': 'Has'}, {'startNode': 'Work experience within well-structured design departments operating in the tech/software space (including leading creative agencies, scale-ups, and mature tech companies)', 'endNode': 'Develop and maintain visual brand identity guidelines, ensuring brand consistency across all media and multichannel platforms', 'name': 'Has'}, {'startNode': 'Proficiency in Figma, Adobe CC, print design best practices, and a solid understanding of web technologies (HTML, CSS, JS)', 'endNode': 'Design compelling, brand-aligned digital and print materials, including websites, social media content, ads, third-party marketplaces, presentations, animations, events, prints, etc.', 'name': 'Requires'}, {'startNode': 'A robust portfolio demonstrating a variety of design projects, showcasing creativity, originality, consistency, and attention to detail', 'endNode': 'Design compelling, brand-aligned digital and print materials, including websites, social media content, ads, third-party marketplaces, presentations, animations, events, prints, etc.', 'name': 'Has'}, {'startNode': 'The ability to shape the exciting journey of technology and be part of the very early days of one of Europe’s hottest startups', 'endNode': 'About the Job Offer', 'name': 'Describes'}]}\n",
      "[INFO] Wohoo ! Relation using embeddings is matched --- requires -merged--> employs \n",
      "[INFO] Wohoo ! Relation using embeddings is matched --- requires -merged--> employs \n",
      "[INFO] Wohoo ! Relation using embeddings is matched --- describes -merged--> employs \n",
      "[INFO] Wohoo ! Entity using embeddings is matched --- A Bachelor’s degree (or equivalent) in Graphic Design / Visual Arts - or a self-starter with a strong creative project track record -merged--> a bachelor’s degree (or equivalent) in graphic design / visual arts   or a self starter with a strong creative project track record \n",
      "[INFO] Wohoo ! Entity using embeddings is matched --- Translate our core values, product, marketing, and sales objectives into beautifully crafted deliverables -merged--> translate our core values, product, marketing, and sales objectives into beautifully crafted deliverables \n",
      "[INFO] Wohoo ! Entity using embeddings is matched --- 5-7 years of experience in Graphic Design, including brand design, 360° marketing and communications design, product brand design, 0-to-1 projects, front-end development, etc. -merged--> 5 7 years of experience in graphic design, including brand design, 360° marketing and communications design, product brand design, 0 to 1 projects, front end development, etc. \n",
      "[INFO] Wohoo ! Entity using embeddings is matched --- Design compelling, brand-aligned digital and print materials, including websites, social media content, ads, third-party marketplaces, presentations, animations, events, prints, etc. -merged--> design compelling, brand aligned digital and print materials, including websites, social media content, ads, third party marketplaces, presentations, animations, events, prints, etc. \n",
      "[INFO] Wohoo ! Entity using embeddings is matched --- Work experience within well-structured design departments operating in the tech/software space (including leading creative agencies, scale-ups, and mature tech companies) -merged--> work experience within well structured design departments operating in the tech/software space (including leading creative agencies, scale ups, and mature tech companies) \n",
      "[INFO] Wohoo ! Entity using embeddings is matched --- Develop and maintain visual brand identity guidelines, ensuring brand consistency across all media and multichannel platforms -merged--> develop and maintain visual brand identity guidelines, ensuring brand consistency across all media and multichannel platforms \n",
      "[INFO] Wohoo ! Entity using embeddings is matched --- Proficiency in Figma, Adobe CC, print design best practices, and a solid understanding of web technologies (HTML, CSS, JS) -merged--> proficiency in figma, adobe cc, print design best practices, and a solid understanding of web technologies (html, css, js) \n",
      "[INFO] Wohoo ! Entity using embeddings is matched --- Design compelling, brand-aligned digital and print materials, including websites, social media content, ads, third-party marketplaces, presentations, animations, events, prints, etc. -merged--> design compelling, brand aligned digital and print materials, including websites, social media content, ads, third party marketplaces, presentations, animations, events, prints, etc. \n",
      "[INFO] Wohoo ! Entity using embeddings is matched --- A robust portfolio demonstrating a variety of design projects, showcasing creativity, originality, consistency, and attention to detail -merged--> a robust portfolio demonstrating a variety of design projects, showcasing creativity, originality, consistency, and attention to detail \n",
      "[INFO] Wohoo ! Entity using embeddings is matched --- Design compelling, brand-aligned digital and print materials, including websites, social media content, ads, third-party marketplaces, presentations, animations, events, prints, etc. -merged--> design compelling, brand aligned digital and print materials, including websites, social media content, ads, third party marketplaces, presentations, animations, events, prints, etc. \n",
      "[INFO] Wohoo ! Entity using embeddings is matched --- The ability to shape the exciting journey of technology and be part of the very early days of one of Europe’s hottest startups -merged--> the ability to shape the exciting journey of technology and be part of the very early days of one of europe’s hottest startups \n",
      "[INFO] Wohoo ! Entity using embeddings is matched --- About the Job Offer -merged--> about the job offer \n",
      "[INFO] Wohoo ! Entity using embeddings is matched --- A Bachelor’s degree (or equivalent) in Graphic Design / Visual Arts - or a self-starter with a strong creative project track record -merged--> a bachelor’s degree (or equivalent) in graphic design / visual arts   or a self starter with a strong creative project track record \n",
      "[INFO] Wohoo ! Entity using embeddings is matched --- Translate our core values, product, marketing, and sales objectives into beautifully crafted deliverables -merged--> translate our core values, product, marketing, and sales objectives into beautifully crafted deliverables \n",
      "[INFO] Wohoo ! Entity using embeddings is matched --- 5-7 years of experience in Graphic Design, including brand design, 360° marketing and communications design, product brand design, 0-to-1 projects, front-end development, etc. -merged--> 5 7 years of experience in graphic design, including brand design, 360° marketing and communications design, product brand design, 0 to 1 projects, front end development, etc. \n",
      "[INFO] Wohoo ! Entity using embeddings is matched --- Design compelling, brand-aligned digital and print materials, including websites, social media content, ads, third-party marketplaces, presentations, animations, events, prints, etc. -merged--> design compelling, brand aligned digital and print materials, including websites, social media content, ads, third party marketplaces, presentations, animations, events, prints, etc. \n",
      "[INFO] Wohoo ! Entity using embeddings is matched --- Work experience within well-structured design departments operating in the tech/software space (including leading creative agencies, scale-ups, and mature tech companies) -merged--> work experience within well structured design departments operating in the tech/software space (including leading creative agencies, scale ups, and mature tech companies) \n",
      "[INFO] Wohoo ! Entity using embeddings is matched --- Develop and maintain visual brand identity guidelines, ensuring brand consistency across all media and multichannel platforms -merged--> develop and maintain visual brand identity guidelines, ensuring brand consistency across all media and multichannel platforms \n",
      "[INFO] Wohoo ! Entity using embeddings is matched --- Proficiency in Figma, Adobe CC, print design best practices, and a solid understanding of web technologies (HTML, CSS, JS) -merged--> proficiency in figma, adobe cc, print design best practices, and a solid understanding of web technologies (html, css, js) \n",
      "[INFO] Wohoo ! Entity using embeddings is matched --- Design compelling, brand-aligned digital and print materials, including websites, social media content, ads, third-party marketplaces, presentations, animations, events, prints, etc. -merged--> design compelling, brand aligned digital and print materials, including websites, social media content, ads, third party marketplaces, presentations, animations, events, prints, etc. \n",
      "[INFO] Wohoo ! Entity using embeddings is matched --- A robust portfolio demonstrating a variety of design projects, showcasing creativity, originality, consistency, and attention to detail -merged--> a robust portfolio demonstrating a variety of design projects, showcasing creativity, originality, consistency, and attention to detail \n",
      "[INFO] Wohoo ! Entity using embeddings is matched --- Design compelling, brand-aligned digital and print materials, including websites, social media content, ads, third-party marketplaces, presentations, animations, events, prints, etc. -merged--> design compelling, brand aligned digital and print materials, including websites, social media content, ads, third party marketplaces, presentations, animations, events, prints, etc. \n",
      "[INFO] Wohoo ! Entity using embeddings is matched --- The ability to shape the exciting journey of technology and be part of the very early days of one of Europe’s hottest startups -merged--> the ability to shape the exciting journey of technology and be part of the very early days of one of europe’s hottest startups \n",
      "[INFO] Wohoo ! Entity using embeddings is matched --- About the Job Offer -merged--> about the job offer \n",
      "[INFO] Wohoo ! Entity using embeddings is matched --- A Bachelor’s degree (or equivalent) in Graphic Design / Visual Arts - or a self-starter with a strong creative project track record -merged--> a bachelor’s degree (or equivalent) in graphic design / visual arts   or a self starter with a strong creative project track record \n",
      "[INFO] Wohoo ! Entity using embeddings is matched --- Translate our core values, product, marketing, and sales objectives into beautifully crafted deliverables -merged--> translate our core values, product, marketing, and sales objectives into beautifully crafted deliverables \n",
      "[INFO] Wohoo ! Entity using embeddings is matched --- 5-7 years of experience in Graphic Design, including brand design, 360° marketing and communications design, product brand design, 0-to-1 projects, front-end development, etc. -merged--> 5 7 years of experience in graphic design, including brand design, 360° marketing and communications design, product brand design, 0 to 1 projects, front end development, etc. \n",
      "[INFO] Wohoo ! Entity using embeddings is matched --- Design compelling, brand-aligned digital and print materials, including websites, social media content, ads, third-party marketplaces, presentations, animations, events, prints, etc. -merged--> design compelling, brand aligned digital and print materials, including websites, social media content, ads, third party marketplaces, presentations, animations, events, prints, etc. \n",
      "[INFO] Wohoo ! Entity using embeddings is matched --- Work experience within well-structured design departments operating in the tech/software space (including leading creative agencies, scale-ups, and mature tech companies) -merged--> work experience within well structured design departments operating in the tech/software space (including leading creative agencies, scale ups, and mature tech companies) \n",
      "[INFO] Wohoo ! Entity using embeddings is matched --- Develop and maintain visual brand identity guidelines, ensuring brand consistency across all media and multichannel platforms -merged--> develop and maintain visual brand identity guidelines, ensuring brand consistency across all media and multichannel platforms \n",
      "[INFO] Wohoo ! Entity using embeddings is matched --- Proficiency in Figma, Adobe CC, print design best practices, and a solid understanding of web technologies (HTML, CSS, JS) -merged--> proficiency in figma, adobe cc, print design best practices, and a solid understanding of web technologies (html, css, js) \n",
      "[INFO] Wohoo ! Entity using embeddings is matched --- Design compelling, brand-aligned digital and print materials, including websites, social media content, ads, third-party marketplaces, presentations, animations, events, prints, etc. -merged--> design compelling, brand aligned digital and print materials, including websites, social media content, ads, third party marketplaces, presentations, animations, events, prints, etc. \n",
      "[INFO] Wohoo ! Entity using embeddings is matched --- A robust portfolio demonstrating a variety of design projects, showcasing creativity, originality, consistency, and attention to detail -merged--> a robust portfolio demonstrating a variety of design projects, showcasing creativity, originality, consistency, and attention to detail \n",
      "[INFO] Wohoo ! Entity using embeddings is matched --- Design compelling, brand-aligned digital and print materials, including websites, social media content, ads, third-party marketplaces, presentations, animations, events, prints, etc. -merged--> design compelling, brand aligned digital and print materials, including websites, social media content, ads, third party marketplaces, presentations, animations, events, prints, etc. \n",
      "[INFO] Wohoo ! Entity using embeddings is matched --- The ability to shape the exciting journey of technology and be part of the very early days of one of Europe’s hottest startups -merged--> the ability to shape the exciting journey of technology and be part of the very early days of one of europe’s hottest startups \n",
      "[INFO] Wohoo ! Entity using embeddings is matched --- About the Job Offer -merged--> about the job offer \n",
      "[INFO] Wohoo ! Entity using embeddings is matched --- A Bachelor’s degree (or equivalent) in Graphic Design / Visual Arts - or a self-starter with a strong creative project track record -merged--> a bachelor’s degree (or equivalent) in graphic design / visual arts   or a self starter with a strong creative project track record \n",
      "[INFO] Wohoo ! Entity using embeddings is matched --- Translate our core values, product, marketing, and sales objectives into beautifully crafted deliverables -merged--> translate our core values, product, marketing, and sales objectives into beautifully crafted deliverables \n",
      "[INFO] Wohoo ! Entity using embeddings is matched --- 5-7 years of experience in Graphic Design, including brand design, 360° marketing and communications design, product brand design, 0-to-1 projects, front-end development, etc. -merged--> 5 7 years of experience in graphic design, including brand design, 360° marketing and communications design, product brand design, 0 to 1 projects, front end development, etc. \n",
      "[INFO] Wohoo ! Entity using embeddings is matched --- Design compelling, brand-aligned digital and print materials, including websites, social media content, ads, third-party marketplaces, presentations, animations, events, prints, etc. -merged--> design compelling, brand aligned digital and print materials, including websites, social media content, ads, third party marketplaces, presentations, animations, events, prints, etc. \n",
      "[INFO] Wohoo ! Entity using embeddings is matched --- Work experience within well-structured design departments operating in the tech/software space (including leading creative agencies, scale-ups, and mature tech companies) -merged--> work experience within well structured design departments operating in the tech/software space (including leading creative agencies, scale ups, and mature tech companies) \n",
      "[INFO] Wohoo ! Entity using embeddings is matched --- Develop and maintain visual brand identity guidelines, ensuring brand consistency across all media and multichannel platforms -merged--> develop and maintain visual brand identity guidelines, ensuring brand consistency across all media and multichannel platforms \n",
      "[INFO] Wohoo ! Entity using embeddings is matched --- Proficiency in Figma, Adobe CC, print design best practices, and a solid understanding of web technologies (HTML, CSS, JS) -merged--> proficiency in figma, adobe cc, print design best practices, and a solid understanding of web technologies (html, css, js) \n",
      "[INFO] Wohoo ! Entity using embeddings is matched --- Design compelling, brand-aligned digital and print materials, including websites, social media content, ads, third-party marketplaces, presentations, animations, events, prints, etc. -merged--> design compelling, brand aligned digital and print materials, including websites, social media content, ads, third party marketplaces, presentations, animations, events, prints, etc. \n",
      "[INFO] Wohoo ! Entity using embeddings is matched --- A robust portfolio demonstrating a variety of design projects, showcasing creativity, originality, consistency, and attention to detail -merged--> a robust portfolio demonstrating a variety of design projects, showcasing creativity, originality, consistency, and attention to detail \n",
      "[INFO] Wohoo ! Entity using embeddings is matched --- Design compelling, brand-aligned digital and print materials, including websites, social media content, ads, third-party marketplaces, presentations, animations, events, prints, etc. -merged--> design compelling, brand aligned digital and print materials, including websites, social media content, ads, third party marketplaces, presentations, animations, events, prints, etc. \n",
      "[INFO] Wohoo ! Entity using embeddings is matched --- The ability to shape the exciting journey of technology and be part of the very early days of one of Europe’s hottest startups -merged--> the ability to shape the exciting journey of technology and be part of the very early days of one of europe’s hottest startups \n",
      "[INFO] Wohoo ! Entity using embeddings is matched --- About the Job Offer -merged--> about the job offer \n",
      "[INFO] Wohoo ! Entity using embeddings is matched --- A Bachelor’s degree (or equivalent) in Graphic Design / Visual Arts - or a self-starter with a strong creative project track record -merged--> a bachelor’s degree (or equivalent) in graphic design / visual arts   or a self starter with a strong creative project track record \n",
      "[INFO] Wohoo ! Entity using embeddings is matched --- Translate our core values, product, marketing, and sales objectives into beautifully crafted deliverables -merged--> translate our core values, product, marketing, and sales objectives into beautifully crafted deliverables \n",
      "[INFO] Wohoo ! Entity using embeddings is matched --- 5-7 years of experience in Graphic Design, including brand design, 360° marketing and communications design, product brand design, 0-to-1 projects, front-end development, etc. -merged--> 5 7 years of experience in graphic design, including brand design, 360° marketing and communications design, product brand design, 0 to 1 projects, front end development, etc. \n",
      "[INFO] Wohoo ! Entity using embeddings is matched --- Design compelling, brand-aligned digital and print materials, including websites, social media content, ads, third-party marketplaces, presentations, animations, events, prints, etc. -merged--> design compelling, brand aligned digital and print materials, including websites, social media content, ads, third party marketplaces, presentations, animations, events, prints, etc. \n",
      "[INFO] Wohoo ! Entity using embeddings is matched --- Work experience within well-structured design departments operating in the tech/software space (including leading creative agencies, scale-ups, and mature tech companies) -merged--> work experience within well structured design departments operating in the tech/software space (including leading creative agencies, scale ups, and mature tech companies) \n",
      "[INFO] Wohoo ! Entity using embeddings is matched --- Develop and maintain visual brand identity guidelines, ensuring brand consistency across all media and multichannel platforms -merged--> develop and maintain visual brand identity guidelines, ensuring brand consistency across all media and multichannel platforms \n",
      "[INFO] Wohoo ! Entity using embeddings is matched --- Proficiency in Figma, Adobe CC, print design best practices, and a solid understanding of web technologies (HTML, CSS, JS) -merged--> proficiency in figma, adobe cc, print design best practices, and a solid understanding of web technologies (html, css, js) \n",
      "[INFO] Wohoo ! Entity using embeddings is matched --- Design compelling, brand-aligned digital and print materials, including websites, social media content, ads, third-party marketplaces, presentations, animations, events, prints, etc. -merged--> design compelling, brand aligned digital and print materials, including websites, social media content, ads, third party marketplaces, presentations, animations, events, prints, etc. \n",
      "[INFO] Wohoo ! Entity using embeddings is matched --- A robust portfolio demonstrating a variety of design projects, showcasing creativity, originality, consistency, and attention to detail -merged--> a robust portfolio demonstrating a variety of design projects, showcasing creativity, originality, consistency, and attention to detail \n",
      "[INFO] Wohoo ! Entity using embeddings is matched --- Design compelling, brand-aligned digital and print materials, including websites, social media content, ads, third-party marketplaces, presentations, animations, events, prints, etc. -merged--> design compelling, brand aligned digital and print materials, including websites, social media content, ads, third party marketplaces, presentations, animations, events, prints, etc. \n",
      "[INFO] Wohoo ! Entity using embeddings is matched --- The ability to shape the exciting journey of technology and be part of the very early days of one of Europe’s hottest startups -merged--> the ability to shape the exciting journey of technology and be part of the very early days of one of europe’s hottest startups \n",
      "[INFO] Wohoo ! Entity using embeddings is matched --- About the Job Offer -merged--> about the job offer \n",
      "[INFO] Matching the Document 1 Entities and Relationships with the Existing Global Entities/Relations\n",
      "[INFO] Wohoo ! Entity using embeddings is matched --- graphic designer -merged--> senior graphic designer \n",
      "[INFO] Wohoo ! Relation using embeddings is matched --- employs -merged--> works_as \n",
      "[INFO] Wohoo ! Relation using embeddings is matched --- brand management -merged--> work_experience \n",
      "[INFO] Wohoo ! Relation using embeddings is matched --- employs -merged--> works_as \n",
      "[INFO] Wohoo ! Relation using embeddings is matched --- employs -merged--> works_as \n",
      "[INFO] Wohoo ! Relation using embeddings is matched --- employs -merged--> works_as \n",
      "[INFO] Wohoo ! Relation using embeddings is matched --- employs -merged--> works_as \n",
      "[INFO] Wohoo ! Relation using embeddings is matched --- employs -merged--> works_as \n",
      "[INFO] Wohoo ! Relation using embeddings is matched --- employs -merged--> works_as \n",
      "[INFO] Wohoo ! Relation using embeddings is matched --- employs -merged--> works_as \n",
      "[INFO] Wohoo ! Relation using embeddings is matched --- employs -merged--> works_as \n",
      "[INFO] Wohoo ! Relation using embeddings is matched --- employs -merged--> works_as \n",
      "[INFO] Wohoo ! Relation using embeddings is matched --- employs -merged--> works_as \n",
      "[INFO] Wohoo ! Relation using embeddings is matched --- employs -merged--> works_as \n",
      "[INFO] Wohoo ! Relation using embeddings is matched --- employs -merged--> works_as \n",
      "[INFO] Wohoo ! Relation using embeddings is matched --- employs -merged--> works_as \n",
      "[INFO] Wohoo ! Relation using embeddings is matched --- employs -merged--> works_as \n",
      "[INFO] Wohoo ! Relation using embeddings is matched --- employs -merged--> works_as \n"
     ]
    }
   ],
   "source": [
    "global_ent_, global_rel_ = itext2kg.build_graph(sections=[semantic_blocks_job_offer, semantic_blocks_job_offer_2], existing_global_entities = global_ent, existing_global_relationships = global_rel, ent_threshold=0.6, rel_threshold=0.6)"
   ]
  },
  {
   "cell_type": "markdown",
   "metadata": {},
   "source": [
    "# Draw the graph\n",
    "---"
   ]
  },
  {
   "cell_type": "markdown",
   "metadata": {},
   "source": [
    "The final section involves visualizing the constructed knowledge graph using GraphIntegrator. The graph database Neo4j is accessed using specified credentials, and the resulting graph is visualized to provide a visual representation of the relationships and entities extracted from the document."
   ]
  },
  {
   "cell_type": "code",
   "execution_count": 59,
   "metadata": {
    "scrolled": true
   },
   "outputs": [
    {
     "data": {
      "text/plain": [
       "[{'label': 'Job_Offer',\n",
       "  'name': 'about the job offer',\n",
       "  'properties': {'embeddings': array([-0.01519403, -0.01181279,  0.01700064, ..., -0.0080252 ,\n",
       "           0.0074151 , -0.00961702])}},\n",
       " {'label': 'Company',\n",
       "  'name': 'innovate design co.',\n",
       "  'properties': {'embeddings': array([ 0.00467274, -0.02104599,  0.02542451, ..., -0.01286071,\n",
       "          -0.02440203, -0.0166277 ])}},\n",
       " {'label': 'Location',\n",
       "  'name': 'paris, london, and san francisco (canal st martin)',\n",
       "  'properties': {'embeddings': array([ 0.00131088, -0.01223588,  0.03110223, ..., -0.00199854,\n",
       "           0.01018634, -0.00377018])}},\n",
       " {'label': 'Job_Type',\n",
       "  'name': 'full time',\n",
       "  'properties': {'embeddings': array([-1.6611168e-02,  5.2146090e-05,  3.8347840e-03, ...,\n",
       "          -1.2042833e-02, -1.5450866e-02,  1.5430220e-03])}},\n",
       " {'label': 'Responsibilities',\n",
       "  'name': 'translate our core values, product, marketing, and sales objectives into beautifully crafted deliverables',\n",
       "  'properties': {'embeddings': array([-0.01375103, -0.00037892,  0.02202254, ..., -0.00400142,\n",
       "          -0.00326985,  0.00364231])}},\n",
       " {'label': 'Responsibilities',\n",
       "  'name': 'design compelling, brand aligned digital and print materials, including websites, social media content, ads, third party marketplaces, presentations, animations, events, prints, etc.',\n",
       "  'properties': {'embeddings': array([-0.01920771, -0.00277994,  0.02919604, ..., -0.00402745,\n",
       "          -0.00357042, -0.01436573])}},\n",
       " {'label': 'Responsibilities',\n",
       "  'name': 'develop and maintain visual brand identity guidelines, ensuring brand consistency across all media and multichannel platforms',\n",
       "  'properties': {'embeddings': array([ 0.00387994, -0.0235161 ,  0.01186511, ..., -0.0029389 ,\n",
       "           0.00445302,  0.00639642])}},\n",
       " {'label': 'Responsibilities',\n",
       "  'name': \"communicate innovate design co.'s narrative through conversion and data driven design\",\n",
       "  'properties': {'embeddings': array([-0.0137896 ,  0.02450311,  0.02773623, ..., -0.0026705 ,\n",
       "           0.01262045, -0.01152055])}},\n",
       " {'label': 'Responsibilities',\n",
       "  'name': 'participate in brainstorming sessions and collaborate with stakeholders to articulate a creative vision that enhances our brand’s visual storytelling',\n",
       "  'properties': {'embeddings': array([-0.00913686, -0.01694932,  0.00954327, ..., -0.012275  ,\n",
       "           0.01584655, -0.01849147])}},\n",
       " {'label': 'Responsibilities',\n",
       "  'name': 'promote design comprehension and sensibility across the organization, refining work methodologies and design processes to enhance efficiency and effectiveness',\n",
       "  'properties': {'embeddings': array([ 0.01422578, -0.00323433,  0.00916894, ..., -0.0094548 ,\n",
       "           0.0084087 , -0.00313304])}},\n",
       " {'label': 'Qualifications',\n",
       "  'name': 'a bachelor’s degree (or equivalent) in graphic design / visual arts   or a self starter with a strong creative project track record',\n",
       "  'properties': {'embeddings': array([-0.01413758, -0.00518992,  0.0070357 , ..., -0.01514906,\n",
       "          -0.00937695, -0.00017566])}},\n",
       " {'label': 'Qualifications',\n",
       "  'name': '5 7 years of experience in graphic design, including brand design, 360° marketing and communications design, product brand design, 0 to 1 projects, front end development, etc.',\n",
       "  'properties': {'embeddings': array([-0.01566926, -0.00748182,  0.02002855, ...,  0.00222134,\n",
       "          -0.00538152, -0.00833673])}},\n",
       " {'label': 'Qualifications',\n",
       "  'name': 'work experience within well structured design departments operating in the tech/software space (including leading creative agencies, scale ups, and mature tech companies)',\n",
       "  'properties': {'embeddings': array([ 0.00841979, -0.00437946,  0.0244896 , ...,  0.02256725,\n",
       "           0.00511964, -0.0007329 ])}},\n",
       " {'label': 'Qualifications',\n",
       "  'name': 'proficiency in figma, adobe cc, print design best practices, and a solid understanding of web technologies (html, css, js)',\n",
       "  'properties': {'embeddings': array([-0.02627903, -0.00643543,  0.02179597, ...,  0.00814117,\n",
       "          -0.00342949,  0.00158593])}},\n",
       " {'label': 'Qualifications',\n",
       "  'name': 'a robust portfolio demonstrating a variety of design projects, showcasing creativity, originality, consistency, and attention to detail',\n",
       "  'properties': {'embeddings': array([-0.01694192, -0.00266019,  0.01205102, ..., -0.01024427,\n",
       "           0.01191025,  0.00243108])}},\n",
       " {'label': 'Benefits',\n",
       "  'name': 'the ability to shape the exciting journey of technology and be part of the very early days of one of europe’s hottest startups',\n",
       "  'properties': {'embeddings': array([-0.01343307, -0.019386  ,  0.02852365, ..., -0.00309624,\n",
       "           0.00503188, -0.0075791 ])}},\n",
       " {'label': 'Benefits',\n",
       "  'name': 'a fun, young, international team',\n",
       "  'properties': {'embeddings': array([ 0.00836688,  0.00965418,  0.02851895, ..., -0.01470325,\n",
       "           0.0065536 , -0.00790472])}},\n",
       " {'label': 'Benefits',\n",
       "  'name': 'competitive salary range',\n",
       "  'properties': {'embeddings': array([ 0.00505831,  0.00321849,  0.00929093, ..., -0.01083683,\n",
       "          -0.00066952,  0.00259159])}},\n",
       " {'label': 'Benefits',\n",
       "  'name': 'opportunities for professional growth and development',\n",
       "  'properties': {'embeddings': array([ 0.01577674, -0.00312919,  0.01733999, ..., -0.01206842,\n",
       "           0.0125908 ,  0.00185296])}},\n",
       " {'label': 'Process',\n",
       "  'name': 'senior graphic designer',\n",
       "  'properties': {'embeddings': array([ 0.00499245,  0.00576018,  0.02761992, ...,  0.00557556,\n",
       "           0.00663689, -0.00528985])}},\n",
       " {'label': 'Company',\n",
       "  'name': 'fictitious company',\n",
       "  'properties': {'embeddings': array([-0.00447414, -0.02116995,  0.01478735, ...,  0.00205458,\n",
       "          -0.00464939, -0.0059599 ])}},\n",
       " {'label': 'Person',\n",
       "  'name': 'emily davis',\n",
       "  'properties': {'embeddings': array([-0.01584088, -0.00927059,  0.01920192, ..., -0.00695282,\n",
       "          -0.00056115,  0.00781327])}}]"
      ]
     },
     "execution_count": 59,
     "metadata": {},
     "output_type": "execute_result"
    }
   ],
   "source": [
    "global_ent_list = []\n",
    "for ent in global_ent_:\n",
    "    if ent[\"label\"] != '':\n",
    "        global_ent_list.append(ent)\n",
    "\n",
    "global_ent_list"
   ]
  },
  {
   "cell_type": "code",
   "execution_count": 55,
   "metadata": {
    "scrolled": true
   },
   "outputs": [
    {
     "data": {
      "text/plain": [
       "[{'startNode': 'emily davis',\n",
       "  'endNode': 'senior graphic designer',\n",
       "  'name': 'works_as',\n",
       "  'properties': {'embeddings': array([-0.01144046, -0.01113987,  0.00578057, ...,  0.00079197,\n",
       "          -0.01015133,  0.01060089])}},\n",
       " {'startNode': 'emily davis',\n",
       "  'endNode': 'senior graphic designer',\n",
       "  'name': 'work_experience',\n",
       "  'properties': {'embeddings': array([ 0.02409872, -0.00389711,  0.02718268, ..., -0.01397033,\n",
       "           0.00905268,  0.0073592 ])}},\n",
       " {'startNode': 'senior graphic designer',\n",
       "  'endNode': 'fictitious company',\n",
       "  'name': 'works_as',\n",
       "  'properties': {'embeddings': array([-0.01144046, -0.01113987,  0.00578057, ...,  0.00079197,\n",
       "          -0.01015133,  0.01060089])}},\n",
       " {'startNode': 'senior graphic designer',\n",
       "  'endNode': 'fictitious company',\n",
       "  'name': 'has_experience_in_similar_roles',\n",
       "  'properties': {'embeddings': array([-0.01462248,  0.00032782,  0.02402373, ..., -0.00743022,\n",
       "           0.00879461,  0.00149123])}},\n",
       " {'startNode': 'senior graphic designer',\n",
       "  'endNode': 'fictitious company',\n",
       "  'name': 'has_experience_in_similar_roles',\n",
       "  'properties': {'embeddings': array([-0.0146242 ,  0.0003262 ,  0.02402338, ..., -0.00743054,\n",
       "           0.00879505,  0.00149102])}},\n",
       " {'startNode': 'senior graphic designer',\n",
       "  'endNode': 'fictitious company',\n",
       "  'name': 'has_experience_in_similar_roles',\n",
       "  'properties': {'embeddings': array([-0.0146242 ,  0.0003262 ,  0.02402338, ..., -0.00743054,\n",
       "           0.00879505,  0.00149102])}},\n",
       " {'startNode': 'senior graphic designer',\n",
       "  'endNode': 'fictitious company',\n",
       "  'name': 'has_experience_in_similar_roles',\n",
       "  'properties': {'embeddings': array([-0.0146242 ,  0.0003262 ,  0.02402338, ..., -0.00743054,\n",
       "           0.00879505,  0.00149102])}},\n",
       " {'startNode': 'senior graphic designer',\n",
       "  'endNode': 'fictitious company',\n",
       "  'name': 'has_experience_in_similar_roles',\n",
       "  'properties': {'embeddings': array([-0.0146242 ,  0.0003262 ,  0.02402338, ..., -0.00743054,\n",
       "           0.00879505,  0.00149102])}},\n",
       " {'startNode': 'translate our core values, product, marketing, and sales objectives into beautifully crafted deliverables',\n",
       "  'endNode': 'design compelling, brand aligned digital and print materials, including websites, social media content, ads, third party marketplaces, presentations, animations, events, prints, etc.',\n",
       "  'name': 'design_creation',\n",
       "  'properties': {'embeddings': array([ 0.00582917, -0.00238947,  0.03443741, ..., -0.01277202,\n",
       "           0.0077604 , -0.00121621])}},\n",
       " {'startNode': 'develop and maintain visual brand identity guidelines, ensuring brand consistency across all media and multichannel platforms',\n",
       "  'endNode': 'promote design comprehension and sensibility across the organization, refining work methodologies and design processes to enhance efficiency and effectiveness',\n",
       "  'name': 'work_experience',\n",
       "  'properties': {'embeddings': array([ 0.02409872, -0.00389711,  0.02718268, ..., -0.01397033,\n",
       "           0.00905268,  0.0073592 ])}},\n",
       " {'startNode': \"communicate innovate design co.'s narrative through conversion and data driven design\",\n",
       "  'endNode': 'participate in brainstorming sessions and collaborate with stakeholders to articulate a creative vision that enhances our brand’s visual storytelling',\n",
       "  'name': 'storytelling',\n",
       "  'properties': {'embeddings': array([-0.00332621, -0.01248472,  0.02278264, ..., -0.01873398,\n",
       "           0.00048695, -0.02481097])}},\n",
       " {'startNode': 'a bachelor’s degree (or equivalent) in graphic design / visual arts   or a self starter with a strong creative project track record',\n",
       "  'endNode': 'translate our core values, product, marketing, and sales objectives into beautifully crafted deliverables',\n",
       "  'name': 'works_as',\n",
       "  'properties': {'embeddings': array([-0.01144046, -0.01113987,  0.00578057, ...,  0.00079197,\n",
       "          -0.01015133,  0.01060089])}},\n",
       " {'startNode': '5 7 years of experience in graphic design, including brand design, 360° marketing and communications design, product brand design, 0 to 1 projects, front end development, etc.',\n",
       "  'endNode': 'design compelling, brand aligned digital and print materials, including websites, social media content, ads, third party marketplaces, presentations, animations, events, prints, etc.',\n",
       "  'name': 'has',\n",
       "  'properties': {'embeddings': array([-6.8194600e-05, -1.7381418e-02,  2.9848522e-02, ...,\n",
       "          -9.1395570e-03, -5.7792533e-03,  2.6238948e-02])}},\n",
       " {'startNode': 'work experience within well structured design departments operating in the tech/software space (including leading creative agencies, scale ups, and mature tech companies)',\n",
       "  'endNode': 'develop and maintain visual brand identity guidelines, ensuring brand consistency across all media and multichannel platforms',\n",
       "  'name': 'has',\n",
       "  'properties': {'embeddings': array([-6.8194600e-05, -1.7381418e-02,  2.9848522e-02, ...,\n",
       "          -9.1395570e-03, -5.7792533e-03,  2.6238948e-02])}},\n",
       " {'startNode': 'proficiency in figma, adobe cc, print design best practices, and a solid understanding of web technologies (html, css, js)',\n",
       "  'endNode': 'design compelling, brand aligned digital and print materials, including websites, social media content, ads, third party marketplaces, presentations, animations, events, prints, etc.',\n",
       "  'name': 'works_as',\n",
       "  'properties': {'embeddings': array([-0.01144046, -0.01113987,  0.00578057, ...,  0.00079197,\n",
       "          -0.01015133,  0.01060089])}},\n",
       " {'startNode': 'a robust portfolio demonstrating a variety of design projects, showcasing creativity, originality, consistency, and attention to detail',\n",
       "  'endNode': 'design compelling, brand aligned digital and print materials, including websites, social media content, ads, third party marketplaces, presentations, animations, events, prints, etc.',\n",
       "  'name': 'has',\n",
       "  'properties': {'embeddings': array([-6.8194600e-05, -1.7381418e-02,  2.9848522e-02, ...,\n",
       "          -9.1395570e-03, -5.7792533e-03,  2.6238948e-02])}},\n",
       " {'startNode': 'the ability to shape the exciting journey of technology and be part of the very early days of one of europe’s hottest startups',\n",
       "  'endNode': 'about the job offer',\n",
       "  'name': 'works_as',\n",
       "  'properties': {'embeddings': array([-0.01144046, -0.01113987,  0.00578057, ...,  0.00079197,\n",
       "          -0.01015133,  0.01060089])}},\n",
       " {'startNode': 'a bachelor’s degree (or equivalent) in graphic design / visual arts   or a self starter with a strong creative project track record',\n",
       "  'endNode': 'translate our core values, product, marketing, and sales objectives into beautifully crafted deliverables',\n",
       "  'name': 'works_as',\n",
       "  'properties': {'embeddings': array([-0.01144046, -0.01113987,  0.00578057, ...,  0.00079197,\n",
       "          -0.01015133,  0.01060089])}},\n",
       " {'startNode': '5 7 years of experience in graphic design, including brand design, 360° marketing and communications design, product brand design, 0 to 1 projects, front end development, etc.',\n",
       "  'endNode': 'design compelling, brand aligned digital and print materials, including websites, social media content, ads, third party marketplaces, presentations, animations, events, prints, etc.',\n",
       "  'name': 'has',\n",
       "  'properties': {'embeddings': array([-6.8333820e-05, -1.7381966e-02,  2.9849457e-02, ...,\n",
       "          -9.1405650e-03, -5.7776934e-03,  2.6238838e-02])}},\n",
       " {'startNode': 'work experience within well structured design departments operating in the tech/software space (including leading creative agencies, scale ups, and mature tech companies)',\n",
       "  'endNode': 'develop and maintain visual brand identity guidelines, ensuring brand consistency across all media and multichannel platforms',\n",
       "  'name': 'has',\n",
       "  'properties': {'embeddings': array([-6.8333820e-05, -1.7381966e-02,  2.9849457e-02, ...,\n",
       "          -9.1405650e-03, -5.7776934e-03,  2.6238838e-02])}},\n",
       " {'startNode': 'proficiency in figma, adobe cc, print design best practices, and a solid understanding of web technologies (html, css, js)',\n",
       "  'endNode': 'design compelling, brand aligned digital and print materials, including websites, social media content, ads, third party marketplaces, presentations, animations, events, prints, etc.',\n",
       "  'name': 'works_as',\n",
       "  'properties': {'embeddings': array([-0.01144046, -0.01113987,  0.00578057, ...,  0.00079197,\n",
       "          -0.01015133,  0.01060089])}},\n",
       " {'startNode': 'a robust portfolio demonstrating a variety of design projects, showcasing creativity, originality, consistency, and attention to detail',\n",
       "  'endNode': 'design compelling, brand aligned digital and print materials, including websites, social media content, ads, third party marketplaces, presentations, animations, events, prints, etc.',\n",
       "  'name': 'has',\n",
       "  'properties': {'embeddings': array([-6.8333820e-05, -1.7381966e-02,  2.9849457e-02, ...,\n",
       "          -9.1405650e-03, -5.7776934e-03,  2.6238838e-02])}},\n",
       " {'startNode': 'the ability to shape the exciting journey of technology and be part of the very early days of one of europe’s hottest startups',\n",
       "  'endNode': 'about the job offer',\n",
       "  'name': 'works_as',\n",
       "  'properties': {'embeddings': array([-0.01144046, -0.01113987,  0.00578057, ...,  0.00079197,\n",
       "          -0.01015133,  0.01060089])}},\n",
       " {'startNode': 'a bachelor’s degree (or equivalent) in graphic design / visual arts   or a self starter with a strong creative project track record',\n",
       "  'endNode': 'translate our core values, product, marketing, and sales objectives into beautifully crafted deliverables',\n",
       "  'name': 'works_as',\n",
       "  'properties': {'embeddings': array([-0.01144046, -0.01113987,  0.00578057, ...,  0.00079197,\n",
       "          -0.01015133,  0.01060089])}},\n",
       " {'startNode': '5 7 years of experience in graphic design, including brand design, 360° marketing and communications design, product brand design, 0 to 1 projects, front end development, etc.',\n",
       "  'endNode': 'design compelling, brand aligned digital and print materials, including websites, social media content, ads, third party marketplaces, presentations, animations, events, prints, etc.',\n",
       "  'name': 'has',\n",
       "  'properties': {'embeddings': array([-6.8333820e-05, -1.7381966e-02,  2.9849457e-02, ...,\n",
       "          -9.1405650e-03, -5.7776934e-03,  2.6238838e-02])}},\n",
       " {'startNode': 'work experience within well structured design departments operating in the tech/software space (including leading creative agencies, scale ups, and mature tech companies)',\n",
       "  'endNode': 'develop and maintain visual brand identity guidelines, ensuring brand consistency across all media and multichannel platforms',\n",
       "  'name': 'has',\n",
       "  'properties': {'embeddings': array([-6.8333820e-05, -1.7381966e-02,  2.9849457e-02, ...,\n",
       "          -9.1405650e-03, -5.7776934e-03,  2.6238838e-02])}},\n",
       " {'startNode': 'proficiency in figma, adobe cc, print design best practices, and a solid understanding of web technologies (html, css, js)',\n",
       "  'endNode': 'design compelling, brand aligned digital and print materials, including websites, social media content, ads, third party marketplaces, presentations, animations, events, prints, etc.',\n",
       "  'name': 'works_as',\n",
       "  'properties': {'embeddings': array([-0.01144046, -0.01113987,  0.00578057, ...,  0.00079197,\n",
       "          -0.01015133,  0.01060089])}},\n",
       " {'startNode': 'a robust portfolio demonstrating a variety of design projects, showcasing creativity, originality, consistency, and attention to detail',\n",
       "  'endNode': 'design compelling, brand aligned digital and print materials, including websites, social media content, ads, third party marketplaces, presentations, animations, events, prints, etc.',\n",
       "  'name': 'has',\n",
       "  'properties': {'embeddings': array([-6.8333820e-05, -1.7381966e-02,  2.9849457e-02, ...,\n",
       "          -9.1405650e-03, -5.7776934e-03,  2.6238838e-02])}},\n",
       " {'startNode': 'the ability to shape the exciting journey of technology and be part of the very early days of one of europe’s hottest startups',\n",
       "  'endNode': 'about the job offer',\n",
       "  'name': 'works_as',\n",
       "  'properties': {'embeddings': array([-0.01144046, -0.01113987,  0.00578057, ...,  0.00079197,\n",
       "          -0.01015133,  0.01060089])}},\n",
       " {'startNode': 'a bachelor’s degree (or equivalent) in graphic design / visual arts   or a self starter with a strong creative project track record',\n",
       "  'endNode': 'translate our core values, product, marketing, and sales objectives into beautifully crafted deliverables',\n",
       "  'name': 'works_as',\n",
       "  'properties': {'embeddings': array([-0.01144046, -0.01113987,  0.00578057, ...,  0.00079197,\n",
       "          -0.01015133,  0.01060089])}},\n",
       " {'startNode': '5 7 years of experience in graphic design, including brand design, 360° marketing and communications design, product brand design, 0 to 1 projects, front end development, etc.',\n",
       "  'endNode': 'design compelling, brand aligned digital and print materials, including websites, social media content, ads, third party marketplaces, presentations, animations, events, prints, etc.',\n",
       "  'name': 'has',\n",
       "  'properties': {'embeddings': array([-6.8333820e-05, -1.7381966e-02,  2.9849457e-02, ...,\n",
       "          -9.1405650e-03, -5.7776934e-03,  2.6238838e-02])}},\n",
       " {'startNode': 'work experience within well structured design departments operating in the tech/software space (including leading creative agencies, scale ups, and mature tech companies)',\n",
       "  'endNode': 'develop and maintain visual brand identity guidelines, ensuring brand consistency across all media and multichannel platforms',\n",
       "  'name': 'has',\n",
       "  'properties': {'embeddings': array([-6.8333820e-05, -1.7381966e-02,  2.9849457e-02, ...,\n",
       "          -9.1405650e-03, -5.7776934e-03,  2.6238838e-02])}},\n",
       " {'startNode': 'proficiency in figma, adobe cc, print design best practices, and a solid understanding of web technologies (html, css, js)',\n",
       "  'endNode': 'design compelling, brand aligned digital and print materials, including websites, social media content, ads, third party marketplaces, presentations, animations, events, prints, etc.',\n",
       "  'name': 'works_as',\n",
       "  'properties': {'embeddings': array([-0.01144046, -0.01113987,  0.00578057, ...,  0.00079197,\n",
       "          -0.01015133,  0.01060089])}},\n",
       " {'startNode': 'a robust portfolio demonstrating a variety of design projects, showcasing creativity, originality, consistency, and attention to detail',\n",
       "  'endNode': 'design compelling, brand aligned digital and print materials, including websites, social media content, ads, third party marketplaces, presentations, animations, events, prints, etc.',\n",
       "  'name': 'has',\n",
       "  'properties': {'embeddings': array([-6.8333820e-05, -1.7381966e-02,  2.9849457e-02, ...,\n",
       "          -9.1405650e-03, -5.7776934e-03,  2.6238838e-02])}},\n",
       " {'startNode': 'the ability to shape the exciting journey of technology and be part of the very early days of one of europe’s hottest startups',\n",
       "  'endNode': 'about the job offer',\n",
       "  'name': 'works_as',\n",
       "  'properties': {'embeddings': array([-0.01144046, -0.01113987,  0.00578057, ...,  0.00079197,\n",
       "          -0.01015133,  0.01060089])}},\n",
       " {'startNode': 'a bachelor’s degree (or equivalent) in graphic design / visual arts   or a self starter with a strong creative project track record',\n",
       "  'endNode': 'translate our core values, product, marketing, and sales objectives into beautifully crafted deliverables',\n",
       "  'name': 'works_as',\n",
       "  'properties': {'embeddings': array([-0.01144046, -0.01113987,  0.00578057, ...,  0.00079197,\n",
       "          -0.01015133,  0.01060089])}},\n",
       " {'startNode': '5 7 years of experience in graphic design, including brand design, 360° marketing and communications design, product brand design, 0 to 1 projects, front end development, etc.',\n",
       "  'endNode': 'design compelling, brand aligned digital and print materials, including websites, social media content, ads, third party marketplaces, presentations, animations, events, prints, etc.',\n",
       "  'name': 'has',\n",
       "  'properties': {'embeddings': array([-6.8194600e-05, -1.7381418e-02,  2.9848522e-02, ...,\n",
       "          -9.1395570e-03, -5.7792533e-03,  2.6238948e-02])}},\n",
       " {'startNode': 'work experience within well structured design departments operating in the tech/software space (including leading creative agencies, scale ups, and mature tech companies)',\n",
       "  'endNode': 'develop and maintain visual brand identity guidelines, ensuring brand consistency across all media and multichannel platforms',\n",
       "  'name': 'has',\n",
       "  'properties': {'embeddings': array([-6.8194600e-05, -1.7381418e-02,  2.9848522e-02, ...,\n",
       "          -9.1395570e-03, -5.7792533e-03,  2.6238948e-02])}},\n",
       " {'startNode': 'proficiency in figma, adobe cc, print design best practices, and a solid understanding of web technologies (html, css, js)',\n",
       "  'endNode': 'design compelling, brand aligned digital and print materials, including websites, social media content, ads, third party marketplaces, presentations, animations, events, prints, etc.',\n",
       "  'name': 'works_as',\n",
       "  'properties': {'embeddings': array([-0.01144046, -0.01113987,  0.00578057, ...,  0.00079197,\n",
       "          -0.01015133,  0.01060089])}},\n",
       " {'startNode': 'a robust portfolio demonstrating a variety of design projects, showcasing creativity, originality, consistency, and attention to detail',\n",
       "  'endNode': 'design compelling, brand aligned digital and print materials, including websites, social media content, ads, third party marketplaces, presentations, animations, events, prints, etc.',\n",
       "  'name': 'has',\n",
       "  'properties': {'embeddings': array([-6.8194600e-05, -1.7381418e-02,  2.9848522e-02, ...,\n",
       "          -9.1395570e-03, -5.7792533e-03,  2.6238948e-02])}},\n",
       " {'startNode': 'the ability to shape the exciting journey of technology and be part of the very early days of one of europe’s hottest startups',\n",
       "  'endNode': 'about the job offer',\n",
       "  'name': 'works_as',\n",
       "  'properties': {'embeddings': array([-0.01144046, -0.01113987,  0.00578057, ...,  0.00079197,\n",
       "          -0.01015133,  0.01060089])}}]"
      ]
     },
     "execution_count": 55,
     "metadata": {},
     "output_type": "execute_result"
    }
   ],
   "source": [
    "global_rel_list = []\n",
    "rels = []\n",
    "for rel in global_rel:\n",
    "    if rel[\"startNode\"] != '' and rel[\"endNode\"] != '':\n",
    "        rel[\"name\"] = rel[\"name\"].replace(\" \", \"_\")\n",
    "        global_rel_list.append(rel)\n",
    "\n",
    "global_rel_list"
   ]
  },
  {
   "cell_type": "code",
   "execution_count": 60,
   "metadata": {
    "scrolled": true
   },
   "outputs": [],
   "source": [
    "from itext2kg.graph_integration import GraphIntegrator\n",
    "\n",
    "URI = \"bolt://localhost:7687\"\n",
    "USERNAME = \"neo4j\"\n",
    "PASSWORD = \"secretgraph\"\n",
    "\n",
    "new_graph = {}\n",
    "new_graph[\"nodes\"] = global_ent_\n",
    "new_graph[\"relationships\"] = global_rel_\n",
    "new_graph\n",
    "GraphIntegrator(uri=URI, username=USERNAME, password=PASSWORD).visualize_graph(json_graph=new_graph)"
   ]
  }
 ],
 "metadata": {
  "kernelspec": {
   "display_name": "Python 3 (ipykernel)",
   "language": "python",
   "name": "python3"
  },
  "language_info": {
   "codemirror_mode": {
    "name": "ipython",
    "version": 3
   },
   "file_extension": ".py",
   "mimetype": "text/x-python",
   "name": "python",
   "nbconvert_exporter": "python",
   "pygments_lexer": "ipython3",
   "version": "3.11.9"
  }
 },
 "nbformat": 4,
 "nbformat_minor": 4
}
